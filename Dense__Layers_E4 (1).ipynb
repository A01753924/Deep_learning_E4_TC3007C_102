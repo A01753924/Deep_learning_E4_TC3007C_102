{
  "nbformat": 4,
  "nbformat_minor": 0,
  "metadata": {
    "colab": {
      "provenance": []
    },
    "kernelspec": {
      "name": "python3",
      "display_name": "Python 3"
    },
    "language_info": {
      "name": "python"
    }
  },
  "cells": [
    {
      "cell_type": "markdown",
      "source": [
        "# Dense Layers"
      ],
      "metadata": {
        "id": "ysyoPcftWPDP"
      }
    },
    {
      "cell_type": "markdown",
      "source": [
        "## Equipo 4:\n",
        "\n",
        "\n",
        "*   Karla Andrea Palma Villanueva (A01754270)\n",
        "*   Viviana Alanis Fraige (A01236316)\n",
        "* David Fernando Armendariz Torres (A01570813)\n",
        "* Alan Alberto Mota Yescas (A01753924)\n",
        "* Adrián Chávez Morales (A01568679)\n",
        "* Jose Manuel Armendáriz Mena (A01197583)"
      ],
      "metadata": {
        "id": "GQcQZX3UWU9R"
      }
    },
    {
      "cell_type": "markdown",
      "source": [
        "### Introducción\n",
        "\n",
        "El propósito de este notebook es implementar y evaluar un modelo de red neuronal densa para clasificación de datos en un conjunto de datos formulado a partir de la base de datos de Iris, incrementado con una columna adicional señalando al tipo de suelo. Lo que el modelo realiza es la predicción la especie de una planta en base a sus atributos físicos y al suelo en el cual se encuentra ubicado. Para ello, se prueban distintas arquitecturas para redes neuronales profundas con el fin de ver cuál de ellas tiene un mejor desempeño en términos de precisión de clasificación.\n",
        "\n",
        "El flujo de trabajo consta de varias etapas clave. Primero, los datos se preprocesan y se transforman las variables categóricas en una representación numérica utilizando la codificación one-hot y la creación de variables dummy. Las características se normalizan para mejorar la convergencia y el rendimiento del modelo. Luego, e modelo se define y se entrenan varias configuraciones de redes neuronales densas, que varían en el número de capas ocultas, el número de neuronas por capa, la tasa de aprendizaje del optimizador, y el tamaño de los lotes durante el entrenamiento. Entrenamos el modelo en un conjunto de datos de entrenamiento y lo evaluamos en un conjunto de prueba."
      ],
      "metadata": {
        "id": "SPnwmV-uCR0g"
      }
    },
    {
      "cell_type": "code",
      "execution_count": null,
      "metadata": {
        "id": "nZ7V1jpbL2Aa"
      },
      "outputs": [],
      "source": [
        "# Importación de librerías\n",
        "import pandas as pd\n",
        "import numpy as np\n",
        "import matplotlib.pyplot as plt\n",
        "import seaborn as sns\n",
        "import random\n",
        "from sklearn.model_selection import train_test_split\n",
        "from sklearn.preprocessing import StandardScaler, LabelEncoder\n",
        "from tensorflow import keras\n",
        "from tensorflow.keras import layers\n",
        "from tensorflow.keras.utils import to_categorical\n",
        "import tensorflow as tf\n",
        "from sklearn.metrics import accuracy_score, confusion_matrix\n"
      ]
    },
    {
      "cell_type": "code",
      "source": [
        "# The seed is used to ensure that the model results can be replicated\n",
        "sd = 11\n",
        "np.random.seed(sd)"
      ],
      "metadata": {
        "id": "bgaGIgvsc9-D"
      },
      "execution_count": null,
      "outputs": []
    },
    {
      "cell_type": "markdown",
      "source": [
        "### Explicación de datos\n",
        "\n",
        "El notebook presentado en este informe fue implementado utilizando el dataset extraído de Kaggle (https://www.kaggle.com/datasets/samybaladram/iris-dataset-extended). El dataset manipulado es una extensión Iri, el cual es frecuentemente utilizado en el campo de la ciencia de datos y el aprendizaje máquina hecho originalmente por Fisher en 1936. El dataset original se llama Iris porque contiene 150 registros de iris, mostrando 4 features físicas de cada muestra: sepal length, sepal width, petal length y petal width. Además, la recolección de datos clasifica las muestras en 3 especies: Setosa, Versicolor y Virginica.\n",
        "\n",
        "En este, se ha añadido una nueva columna denominada 'soil_type' al dataset el cual, indica en qué tipo de suelo (el primero de la lista proporcionada o el segundo) crece la planta. El objetivo de esta extensión del dataset es proporcionar más información acerca del entorno de la planta, lo que puede alterar su clasificación. Generalizar los datos de esta forma, la inclusión de la columna mencionada anteriormente expande la data disponible. Proporciona un entorno ampliado para un análisis más complejo, donde el entorno en el que crecieron las flores podría afectar el rendimiento en la predicciones de las plantas. Para ser más específico, el nuevo dataset contiene datos acerca del suelo en el que crecieron las flores, además de sus medidas físicas."
      ],
      "metadata": {
        "id": "uXJufdhQgCkd"
      }
    },
    {
      "cell_type": "markdown",
      "source": [
        "### Cargar los datos"
      ],
      "metadata": {
        "id": "XO7EYYGxXLf7"
      }
    },
    {
      "cell_type": "code",
      "source": [
        "df= pd.read_csv('iris_extended.csv')\n",
        "df.head()"
      ],
      "metadata": {
        "colab": {
          "base_uri": "https://localhost:8080/",
          "height": 256
        },
        "id": "vCoJhV3DLrg6",
        "outputId": "8d301dd3-745f-4baf-aa5a-d6d75c6d4bef"
      },
      "execution_count": null,
      "outputs": [
        {
          "output_type": "execute_result",
          "data": {
            "text/plain": [
              "  species  elevation soil_type  sepal_length  sepal_width  petal_length  \\\n",
              "0  setosa      161.8     sandy          5.16         3.41          1.64   \n",
              "1  setosa      291.4      clay          5.48         4.05          1.53   \n",
              "2  setosa      144.3     sandy          5.10         2.80          1.47   \n",
              "3  setosa      114.6      clay          4.64         3.44          1.53   \n",
              "4  setosa      110.9     loamy          4.85         2.87          1.23   \n",
              "\n",
              "   petal_width  sepal_area  petal_area  sepal_aspect_ratio  ...  \\\n",
              "0         0.26     17.5956      0.4264            1.513196  ...   \n",
              "1         0.37     22.1940      0.5661            1.353086  ...   \n",
              "2         0.38     14.2800      0.5586            1.821429  ...   \n",
              "3         0.17     15.9616      0.2601            1.348837  ...   \n",
              "4         0.26     13.9195      0.3198            1.689895  ...   \n",
              "\n",
              "   sepal_to_petal_length_ratio  sepal_to_petal_width_ratio  \\\n",
              "0                     3.146341                   13.115385   \n",
              "1                     3.581699                   10.945946   \n",
              "2                     3.469388                    7.368421   \n",
              "3                     3.032680                   20.235294   \n",
              "4                     3.943089                   11.038462   \n",
              "\n",
              "   sepal_petal_length_diff  sepal_petal_width_diff  petal_curvature_mm  \\\n",
              "0                     3.52                    3.15                5.33   \n",
              "1                     3.95                    3.68                5.90   \n",
              "2                     3.63                    2.42                5.66   \n",
              "3                     3.11                    3.27                4.51   \n",
              "4                     3.62                    2.61                4.03   \n",
              "\n",
              "   petal_texture_trichomes_per_mm2  leaf_area_cm2  sepal_area_sqrt  \\\n",
              "0                            18.33          53.21         4.194711   \n",
              "1                            20.45          52.53         4.711051   \n",
              "2                            24.62          50.25         3.778889   \n",
              "3                            22.91          50.85         3.995197   \n",
              "4                            21.56          40.57         3.730885   \n",
              "\n",
              "   petal_area_sqrt  area_ratios  \n",
              "0         0.652993    41.265478  \n",
              "1         0.752396    39.205087  \n",
              "2         0.747395    25.563910  \n",
              "3         0.510000    61.367166  \n",
              "4         0.565509    43.525641  \n",
              "\n",
              "[5 rows x 21 columns]"
            ],
            "text/html": [
              "\n",
              "  <div id=\"df-46cd83d1-0396-409d-87a6-20fa088af9b8\" class=\"colab-df-container\">\n",
              "    <div>\n",
              "<style scoped>\n",
              "    .dataframe tbody tr th:only-of-type {\n",
              "        vertical-align: middle;\n",
              "    }\n",
              "\n",
              "    .dataframe tbody tr th {\n",
              "        vertical-align: top;\n",
              "    }\n",
              "\n",
              "    .dataframe thead th {\n",
              "        text-align: right;\n",
              "    }\n",
              "</style>\n",
              "<table border=\"1\" class=\"dataframe\">\n",
              "  <thead>\n",
              "    <tr style=\"text-align: right;\">\n",
              "      <th></th>\n",
              "      <th>species</th>\n",
              "      <th>elevation</th>\n",
              "      <th>soil_type</th>\n",
              "      <th>sepal_length</th>\n",
              "      <th>sepal_width</th>\n",
              "      <th>petal_length</th>\n",
              "      <th>petal_width</th>\n",
              "      <th>sepal_area</th>\n",
              "      <th>petal_area</th>\n",
              "      <th>sepal_aspect_ratio</th>\n",
              "      <th>...</th>\n",
              "      <th>sepal_to_petal_length_ratio</th>\n",
              "      <th>sepal_to_petal_width_ratio</th>\n",
              "      <th>sepal_petal_length_diff</th>\n",
              "      <th>sepal_petal_width_diff</th>\n",
              "      <th>petal_curvature_mm</th>\n",
              "      <th>petal_texture_trichomes_per_mm2</th>\n",
              "      <th>leaf_area_cm2</th>\n",
              "      <th>sepal_area_sqrt</th>\n",
              "      <th>petal_area_sqrt</th>\n",
              "      <th>area_ratios</th>\n",
              "    </tr>\n",
              "  </thead>\n",
              "  <tbody>\n",
              "    <tr>\n",
              "      <th>0</th>\n",
              "      <td>setosa</td>\n",
              "      <td>161.8</td>\n",
              "      <td>sandy</td>\n",
              "      <td>5.16</td>\n",
              "      <td>3.41</td>\n",
              "      <td>1.64</td>\n",
              "      <td>0.26</td>\n",
              "      <td>17.5956</td>\n",
              "      <td>0.4264</td>\n",
              "      <td>1.513196</td>\n",
              "      <td>...</td>\n",
              "      <td>3.146341</td>\n",
              "      <td>13.115385</td>\n",
              "      <td>3.52</td>\n",
              "      <td>3.15</td>\n",
              "      <td>5.33</td>\n",
              "      <td>18.33</td>\n",
              "      <td>53.21</td>\n",
              "      <td>4.194711</td>\n",
              "      <td>0.652993</td>\n",
              "      <td>41.265478</td>\n",
              "    </tr>\n",
              "    <tr>\n",
              "      <th>1</th>\n",
              "      <td>setosa</td>\n",
              "      <td>291.4</td>\n",
              "      <td>clay</td>\n",
              "      <td>5.48</td>\n",
              "      <td>4.05</td>\n",
              "      <td>1.53</td>\n",
              "      <td>0.37</td>\n",
              "      <td>22.1940</td>\n",
              "      <td>0.5661</td>\n",
              "      <td>1.353086</td>\n",
              "      <td>...</td>\n",
              "      <td>3.581699</td>\n",
              "      <td>10.945946</td>\n",
              "      <td>3.95</td>\n",
              "      <td>3.68</td>\n",
              "      <td>5.90</td>\n",
              "      <td>20.45</td>\n",
              "      <td>52.53</td>\n",
              "      <td>4.711051</td>\n",
              "      <td>0.752396</td>\n",
              "      <td>39.205087</td>\n",
              "    </tr>\n",
              "    <tr>\n",
              "      <th>2</th>\n",
              "      <td>setosa</td>\n",
              "      <td>144.3</td>\n",
              "      <td>sandy</td>\n",
              "      <td>5.10</td>\n",
              "      <td>2.80</td>\n",
              "      <td>1.47</td>\n",
              "      <td>0.38</td>\n",
              "      <td>14.2800</td>\n",
              "      <td>0.5586</td>\n",
              "      <td>1.821429</td>\n",
              "      <td>...</td>\n",
              "      <td>3.469388</td>\n",
              "      <td>7.368421</td>\n",
              "      <td>3.63</td>\n",
              "      <td>2.42</td>\n",
              "      <td>5.66</td>\n",
              "      <td>24.62</td>\n",
              "      <td>50.25</td>\n",
              "      <td>3.778889</td>\n",
              "      <td>0.747395</td>\n",
              "      <td>25.563910</td>\n",
              "    </tr>\n",
              "    <tr>\n",
              "      <th>3</th>\n",
              "      <td>setosa</td>\n",
              "      <td>114.6</td>\n",
              "      <td>clay</td>\n",
              "      <td>4.64</td>\n",
              "      <td>3.44</td>\n",
              "      <td>1.53</td>\n",
              "      <td>0.17</td>\n",
              "      <td>15.9616</td>\n",
              "      <td>0.2601</td>\n",
              "      <td>1.348837</td>\n",
              "      <td>...</td>\n",
              "      <td>3.032680</td>\n",
              "      <td>20.235294</td>\n",
              "      <td>3.11</td>\n",
              "      <td>3.27</td>\n",
              "      <td>4.51</td>\n",
              "      <td>22.91</td>\n",
              "      <td>50.85</td>\n",
              "      <td>3.995197</td>\n",
              "      <td>0.510000</td>\n",
              "      <td>61.367166</td>\n",
              "    </tr>\n",
              "    <tr>\n",
              "      <th>4</th>\n",
              "      <td>setosa</td>\n",
              "      <td>110.9</td>\n",
              "      <td>loamy</td>\n",
              "      <td>4.85</td>\n",
              "      <td>2.87</td>\n",
              "      <td>1.23</td>\n",
              "      <td>0.26</td>\n",
              "      <td>13.9195</td>\n",
              "      <td>0.3198</td>\n",
              "      <td>1.689895</td>\n",
              "      <td>...</td>\n",
              "      <td>3.943089</td>\n",
              "      <td>11.038462</td>\n",
              "      <td>3.62</td>\n",
              "      <td>2.61</td>\n",
              "      <td>4.03</td>\n",
              "      <td>21.56</td>\n",
              "      <td>40.57</td>\n",
              "      <td>3.730885</td>\n",
              "      <td>0.565509</td>\n",
              "      <td>43.525641</td>\n",
              "    </tr>\n",
              "  </tbody>\n",
              "</table>\n",
              "<p>5 rows × 21 columns</p>\n",
              "</div>\n",
              "    <div class=\"colab-df-buttons\">\n",
              "\n",
              "  <div class=\"colab-df-container\">\n",
              "    <button class=\"colab-df-convert\" onclick=\"convertToInteractive('df-46cd83d1-0396-409d-87a6-20fa088af9b8')\"\n",
              "            title=\"Convert this dataframe to an interactive table.\"\n",
              "            style=\"display:none;\">\n",
              "\n",
              "  <svg xmlns=\"http://www.w3.org/2000/svg\" height=\"24px\" viewBox=\"0 -960 960 960\">\n",
              "    <path d=\"M120-120v-720h720v720H120Zm60-500h600v-160H180v160Zm220 220h160v-160H400v160Zm0 220h160v-160H400v160ZM180-400h160v-160H180v160Zm440 0h160v-160H620v160ZM180-180h160v-160H180v160Zm440 0h160v-160H620v160Z\"/>\n",
              "  </svg>\n",
              "    </button>\n",
              "\n",
              "  <style>\n",
              "    .colab-df-container {\n",
              "      display:flex;\n",
              "      gap: 12px;\n",
              "    }\n",
              "\n",
              "    .colab-df-convert {\n",
              "      background-color: #E8F0FE;\n",
              "      border: none;\n",
              "      border-radius: 50%;\n",
              "      cursor: pointer;\n",
              "      display: none;\n",
              "      fill: #1967D2;\n",
              "      height: 32px;\n",
              "      padding: 0 0 0 0;\n",
              "      width: 32px;\n",
              "    }\n",
              "\n",
              "    .colab-df-convert:hover {\n",
              "      background-color: #E2EBFA;\n",
              "      box-shadow: 0px 1px 2px rgba(60, 64, 67, 0.3), 0px 1px 3px 1px rgba(60, 64, 67, 0.15);\n",
              "      fill: #174EA6;\n",
              "    }\n",
              "\n",
              "    .colab-df-buttons div {\n",
              "      margin-bottom: 4px;\n",
              "    }\n",
              "\n",
              "    [theme=dark] .colab-df-convert {\n",
              "      background-color: #3B4455;\n",
              "      fill: #D2E3FC;\n",
              "    }\n",
              "\n",
              "    [theme=dark] .colab-df-convert:hover {\n",
              "      background-color: #434B5C;\n",
              "      box-shadow: 0px 1px 3px 1px rgba(0, 0, 0, 0.15);\n",
              "      filter: drop-shadow(0px 1px 2px rgba(0, 0, 0, 0.3));\n",
              "      fill: #FFFFFF;\n",
              "    }\n",
              "  </style>\n",
              "\n",
              "    <script>\n",
              "      const buttonEl =\n",
              "        document.querySelector('#df-46cd83d1-0396-409d-87a6-20fa088af9b8 button.colab-df-convert');\n",
              "      buttonEl.style.display =\n",
              "        google.colab.kernel.accessAllowed ? 'block' : 'none';\n",
              "\n",
              "      async function convertToInteractive(key) {\n",
              "        const element = document.querySelector('#df-46cd83d1-0396-409d-87a6-20fa088af9b8');\n",
              "        const dataTable =\n",
              "          await google.colab.kernel.invokeFunction('convertToInteractive',\n",
              "                                                    [key], {});\n",
              "        if (!dataTable) return;\n",
              "\n",
              "        const docLinkHtml = 'Like what you see? Visit the ' +\n",
              "          '<a target=\"_blank\" href=https://colab.research.google.com/notebooks/data_table.ipynb>data table notebook</a>'\n",
              "          + ' to learn more about interactive tables.';\n",
              "        element.innerHTML = '';\n",
              "        dataTable['output_type'] = 'display_data';\n",
              "        await google.colab.output.renderOutput(dataTable, element);\n",
              "        const docLink = document.createElement('div');\n",
              "        docLink.innerHTML = docLinkHtml;\n",
              "        element.appendChild(docLink);\n",
              "      }\n",
              "    </script>\n",
              "  </div>\n",
              "\n",
              "\n",
              "<div id=\"df-68ee6a72-9fcb-4507-a5e7-680e1a7a293a\">\n",
              "  <button class=\"colab-df-quickchart\" onclick=\"quickchart('df-68ee6a72-9fcb-4507-a5e7-680e1a7a293a')\"\n",
              "            title=\"Suggest charts\"\n",
              "            style=\"display:none;\">\n",
              "\n",
              "<svg xmlns=\"http://www.w3.org/2000/svg\" height=\"24px\"viewBox=\"0 0 24 24\"\n",
              "     width=\"24px\">\n",
              "    <g>\n",
              "        <path d=\"M19 3H5c-1.1 0-2 .9-2 2v14c0 1.1.9 2 2 2h14c1.1 0 2-.9 2-2V5c0-1.1-.9-2-2-2zM9 17H7v-7h2v7zm4 0h-2V7h2v10zm4 0h-2v-4h2v4z\"/>\n",
              "    </g>\n",
              "</svg>\n",
              "  </button>\n",
              "\n",
              "<style>\n",
              "  .colab-df-quickchart {\n",
              "      --bg-color: #E8F0FE;\n",
              "      --fill-color: #1967D2;\n",
              "      --hover-bg-color: #E2EBFA;\n",
              "      --hover-fill-color: #174EA6;\n",
              "      --disabled-fill-color: #AAA;\n",
              "      --disabled-bg-color: #DDD;\n",
              "  }\n",
              "\n",
              "  [theme=dark] .colab-df-quickchart {\n",
              "      --bg-color: #3B4455;\n",
              "      --fill-color: #D2E3FC;\n",
              "      --hover-bg-color: #434B5C;\n",
              "      --hover-fill-color: #FFFFFF;\n",
              "      --disabled-bg-color: #3B4455;\n",
              "      --disabled-fill-color: #666;\n",
              "  }\n",
              "\n",
              "  .colab-df-quickchart {\n",
              "    background-color: var(--bg-color);\n",
              "    border: none;\n",
              "    border-radius: 50%;\n",
              "    cursor: pointer;\n",
              "    display: none;\n",
              "    fill: var(--fill-color);\n",
              "    height: 32px;\n",
              "    padding: 0;\n",
              "    width: 32px;\n",
              "  }\n",
              "\n",
              "  .colab-df-quickchart:hover {\n",
              "    background-color: var(--hover-bg-color);\n",
              "    box-shadow: 0 1px 2px rgba(60, 64, 67, 0.3), 0 1px 3px 1px rgba(60, 64, 67, 0.15);\n",
              "    fill: var(--button-hover-fill-color);\n",
              "  }\n",
              "\n",
              "  .colab-df-quickchart-complete:disabled,\n",
              "  .colab-df-quickchart-complete:disabled:hover {\n",
              "    background-color: var(--disabled-bg-color);\n",
              "    fill: var(--disabled-fill-color);\n",
              "    box-shadow: none;\n",
              "  }\n",
              "\n",
              "  .colab-df-spinner {\n",
              "    border: 2px solid var(--fill-color);\n",
              "    border-color: transparent;\n",
              "    border-bottom-color: var(--fill-color);\n",
              "    animation:\n",
              "      spin 1s steps(1) infinite;\n",
              "  }\n",
              "\n",
              "  @keyframes spin {\n",
              "    0% {\n",
              "      border-color: transparent;\n",
              "      border-bottom-color: var(--fill-color);\n",
              "      border-left-color: var(--fill-color);\n",
              "    }\n",
              "    20% {\n",
              "      border-color: transparent;\n",
              "      border-left-color: var(--fill-color);\n",
              "      border-top-color: var(--fill-color);\n",
              "    }\n",
              "    30% {\n",
              "      border-color: transparent;\n",
              "      border-left-color: var(--fill-color);\n",
              "      border-top-color: var(--fill-color);\n",
              "      border-right-color: var(--fill-color);\n",
              "    }\n",
              "    40% {\n",
              "      border-color: transparent;\n",
              "      border-right-color: var(--fill-color);\n",
              "      border-top-color: var(--fill-color);\n",
              "    }\n",
              "    60% {\n",
              "      border-color: transparent;\n",
              "      border-right-color: var(--fill-color);\n",
              "    }\n",
              "    80% {\n",
              "      border-color: transparent;\n",
              "      border-right-color: var(--fill-color);\n",
              "      border-bottom-color: var(--fill-color);\n",
              "    }\n",
              "    90% {\n",
              "      border-color: transparent;\n",
              "      border-bottom-color: var(--fill-color);\n",
              "    }\n",
              "  }\n",
              "</style>\n",
              "\n",
              "  <script>\n",
              "    async function quickchart(key) {\n",
              "      const quickchartButtonEl =\n",
              "        document.querySelector('#' + key + ' button');\n",
              "      quickchartButtonEl.disabled = true;  // To prevent multiple clicks.\n",
              "      quickchartButtonEl.classList.add('colab-df-spinner');\n",
              "      try {\n",
              "        const charts = await google.colab.kernel.invokeFunction(\n",
              "            'suggestCharts', [key], {});\n",
              "      } catch (error) {\n",
              "        console.error('Error during call to suggestCharts:', error);\n",
              "      }\n",
              "      quickchartButtonEl.classList.remove('colab-df-spinner');\n",
              "      quickchartButtonEl.classList.add('colab-df-quickchart-complete');\n",
              "    }\n",
              "    (() => {\n",
              "      let quickchartButtonEl =\n",
              "        document.querySelector('#df-68ee6a72-9fcb-4507-a5e7-680e1a7a293a button');\n",
              "      quickchartButtonEl.style.display =\n",
              "        google.colab.kernel.accessAllowed ? 'block' : 'none';\n",
              "    })();\n",
              "  </script>\n",
              "</div>\n",
              "\n",
              "    </div>\n",
              "  </div>\n"
            ],
            "application/vnd.google.colaboratory.intrinsic+json": {
              "type": "dataframe",
              "variable_name": "df"
            }
          },
          "metadata": {},
          "execution_count": 3
        }
      ]
    },
    {
      "cell_type": "markdown",
      "source": [
        "### Análisis del Dataset\n",
        "\n",
        "Número de columnas: El dataset tiene 22 columnas en total, que incluyen tanto características físicas de las plantas como información sobre el tipo de suelo. Algunas de las columnas clave son:\n",
        "\n",
        "\n",
        "\n",
        "1.   species: La variable objetivo que indica la especie de la planta (Setosa,Versicolor, o Virginica).\n",
        "2.   elevation: Altitud en la que se encuentra la planta.\n",
        "3.   soil_type: Tipo de suelo (sandy, clay, loamy), que fue añadido como una extensión del dataset original de Iris.\n",
        "4.   Características físicas de las flores, como sepal_length, sepal_width, petal_length, y petal_width, así como otras derivadas de estas, como áreas y relaciones de aspecto.\n",
        "\n",
        "\n",
        "Número de instancias: El dataset contiene 1200 instancias en total, lo que significa que se tienen 1200 muestras de flores con sus respectivas características y la información de su especie.\n",
        "\n",
        "Tipos de datos: La mayoría de las columnas son de tipo float64, que representan valores numéricos continuos. La columna species es de tipo object, ya que contiene las clases (especies de flores) en formato texto. Las columnas correspondientes al tipo de suelo (clay, loamy) son de tipo booleano (bool), lo que indica si el suelo tiene esas características o no.\n",
        "\n",
        "Valores no nulos: Todas las columnas del dataset tienen 1200 valores no nulos, lo que indica que no hay valores faltantes en ninguna de las características o variables objetivo, lo cual facilita el procesamiento del dataset sin necesidad de imputar datos."
      ],
      "metadata": {
        "id": "a-mSQVzliOGR"
      }
    },
    {
      "cell_type": "code",
      "source": [
        "df.info()"
      ],
      "metadata": {
        "colab": {
          "base_uri": "https://localhost:8080/"
        },
        "id": "Xjlric0PhogX",
        "outputId": "bb90f258-793d-4fed-8b4d-7bd1ff8db292"
      },
      "execution_count": null,
      "outputs": [
        {
          "output_type": "stream",
          "name": "stdout",
          "text": [
            "<class 'pandas.core.frame.DataFrame'>\n",
            "RangeIndex: 1200 entries, 0 to 1199\n",
            "Data columns (total 21 columns):\n",
            " #   Column                           Non-Null Count  Dtype  \n",
            "---  ------                           --------------  -----  \n",
            " 0   species                          1200 non-null   object \n",
            " 1   elevation                        1200 non-null   float64\n",
            " 2   soil_type                        1200 non-null   object \n",
            " 3   sepal_length                     1200 non-null   float64\n",
            " 4   sepal_width                      1200 non-null   float64\n",
            " 5   petal_length                     1200 non-null   float64\n",
            " 6   petal_width                      1200 non-null   float64\n",
            " 7   sepal_area                       1200 non-null   float64\n",
            " 8   petal_area                       1200 non-null   float64\n",
            " 9   sepal_aspect_ratio               1200 non-null   float64\n",
            " 10  petal_aspect_ratio               1200 non-null   float64\n",
            " 11  sepal_to_petal_length_ratio      1200 non-null   float64\n",
            " 12  sepal_to_petal_width_ratio       1200 non-null   float64\n",
            " 13  sepal_petal_length_diff          1200 non-null   float64\n",
            " 14  sepal_petal_width_diff           1200 non-null   float64\n",
            " 15  petal_curvature_mm               1200 non-null   float64\n",
            " 16  petal_texture_trichomes_per_mm2  1200 non-null   float64\n",
            " 17  leaf_area_cm2                    1200 non-null   float64\n",
            " 18  sepal_area_sqrt                  1200 non-null   float64\n",
            " 19  petal_area_sqrt                  1200 non-null   float64\n",
            " 20  area_ratios                      1200 non-null   float64\n",
            "dtypes: float64(19), object(2)\n",
            "memory usage: 197.0+ KB\n"
          ]
        }
      ]
    },
    {
      "cell_type": "code",
      "source": [
        "df['species'].value_counts()"
      ],
      "metadata": {
        "colab": {
          "base_uri": "https://localhost:8080/",
          "height": 210
        },
        "id": "ai_ZYAOAL8R_",
        "outputId": "7260c37a-9c71-4c12-8f8c-705d45f40f8c"
      },
      "execution_count": null,
      "outputs": [
        {
          "output_type": "execute_result",
          "data": {
            "text/plain": [
              "species\n",
              "setosa        400\n",
              "versicolor    400\n",
              "virginica     400\n",
              "Name: count, dtype: int64"
            ],
            "text/html": [
              "<div>\n",
              "<style scoped>\n",
              "    .dataframe tbody tr th:only-of-type {\n",
              "        vertical-align: middle;\n",
              "    }\n",
              "\n",
              "    .dataframe tbody tr th {\n",
              "        vertical-align: top;\n",
              "    }\n",
              "\n",
              "    .dataframe thead th {\n",
              "        text-align: right;\n",
              "    }\n",
              "</style>\n",
              "<table border=\"1\" class=\"dataframe\">\n",
              "  <thead>\n",
              "    <tr style=\"text-align: right;\">\n",
              "      <th></th>\n",
              "      <th>count</th>\n",
              "    </tr>\n",
              "    <tr>\n",
              "      <th>species</th>\n",
              "      <th></th>\n",
              "    </tr>\n",
              "  </thead>\n",
              "  <tbody>\n",
              "    <tr>\n",
              "      <th>setosa</th>\n",
              "      <td>400</td>\n",
              "    </tr>\n",
              "    <tr>\n",
              "      <th>versicolor</th>\n",
              "      <td>400</td>\n",
              "    </tr>\n",
              "    <tr>\n",
              "      <th>virginica</th>\n",
              "      <td>400</td>\n",
              "    </tr>\n",
              "  </tbody>\n",
              "</table>\n",
              "</div><br><label><b>dtype:</b> int64</label>"
            ]
          },
          "metadata": {},
          "execution_count": 5
        }
      ]
    },
    {
      "cell_type": "markdown",
      "source": [
        "Este resultado indica que el dataset está perfectamente balanceado en cuanto al número de instancias por cada clase, ya que cada especie tiene exactamente el mismo número de muestras (400). Tener un dataset balanceado es ideal para problemas de clasificación, ya que reduce el riesgo de que el modelo favorezca una clase en particular y mejora la capacidad de generalización del mismo."
      ],
      "metadata": {
        "id": "vUUtwsf8wxDx"
      }
    },
    {
      "cell_type": "markdown",
      "source": [
        "### Dividir los datos en conjuntos de entrenamiento y de prueba"
      ],
      "metadata": {
        "id": "QaUS3vjsXTxo"
      }
    },
    {
      "cell_type": "code",
      "source": [
        "# Convertir las columnas binarias\n",
        "soil_type = pd.get_dummies(df[\"soil_type\"])\n",
        "\n",
        "# Concatenar las nuevas columnas\n",
        "df = pd.concat([df, soil_type], axis=1)\n",
        "\n",
        "# Eliminar columnas\n",
        "df.drop(\"soil_type\", axis=1, inplace=True)\n",
        "df.drop(\"sandy\", axis=1, inplace=True)\n"
      ],
      "metadata": {
        "id": "C-e-kpokMmMK"
      },
      "execution_count": null,
      "outputs": []
    },
    {
      "cell_type": "code",
      "source": [
        "# separa las características (X) de la variable objetivo (y).\n",
        "X = df.drop(\"species\", axis = 1)\n",
        "y = df[\"species\"]\n",
        "\n",
        "# Convertir las etiquetas de la variable objetivo en valores numéricos.\n",
        "label_encoder = LabelEncoder()\n",
        "y = label_encoder.fit_transform(y)\n"
      ],
      "metadata": {
        "id": "W71k_1IFMQzL"
      },
      "execution_count": null,
      "outputs": []
    },
    {
      "cell_type": "code",
      "source": [
        "# Datos de entrenamiento: 80%\n",
        "# Datos de prueba: 20%\n",
        "X_train, X_test, y_train, y_test = train_test_split(X, y, test_size=0.2)\n",
        "\n",
        "# Normalización de datos\n",
        "scaler = StandardScaler()\n",
        "X_train = scaler.fit_transform(X_train)\n",
        "X_test = scaler.transform(X_test)\n"
      ],
      "metadata": {
        "id": "dGKbInXlNgx5"
      },
      "execution_count": null,
      "outputs": []
    },
    {
      "cell_type": "code",
      "source": [
        "# Convertir la variable objetivo a formato one-hot encoding\n",
        "y_train = to_categorical(y_train)\n",
        "y_test = to_categorical(y_test)\n"
      ],
      "metadata": {
        "id": "5Q6WsWSiDqMk"
      },
      "execution_count": null,
      "outputs": []
    },
    {
      "cell_type": "markdown",
      "source": [
        "### Entrenamiento del modelo"
      ],
      "metadata": {
        "id": "HlfW9Vo3YMCm"
      }
    },
    {
      "cell_type": "code",
      "source": [
        "# Definición de una arquitectura densa para una red neuronal con Keras\n",
        "def dense_architecture():\n",
        "    model = keras.Sequential(name='Dense_model')\n",
        "    model.add(layers.Dense(units=64, input_shape=X_train[0].shape, activation='relu', # Primera capa oculta densa con 64 neuronas\n",
        "                           kernel_initializer=tf.keras.initializers.HeUniform(seed=0),\n",
        "                           bias_initializer='ones', name='hidden_layer_1'))\n",
        "    model.add(layers.Dense(units=128, activation='relu', name='hidden_layer_2')) # Segunda capa oculta densa con 128 neuronas\n",
        "    model.add(layers.Dense(units=128, activation='relu', name='hidden_layer_3')) # Tercera capa oculta densa con 128 neuronas\n",
        "    model.add(layers.Dense(units=128, activation='relu', name='hidden_layer_4')) # Cuarta capa oculta densa con 128 neuronas\n",
        "    model.add(layers.Dense(units=128, activation='relu', name='hidden_layer_5')) # Quinta capa oculta densa con 128 neuronas\n",
        "    model.add(layers.Dense(units=64, activation='relu', name='hidden_layer_6'))  # Sexta capa oculta densa con 64 neuronas\n",
        "    model.add(layers.Dense(units=64, activation='relu', name='hidden_layer_7'))  # Septima capa oculta densa con 64 neuronas\n",
        "    model.add(layers.Dense(units=64, activation='relu', name='hidden_layer_8'))  # Octava capa oculta densa con 64 neuronas\n",
        "    model.add(layers.Dense(units=64, activation='relu', name='hidden_layer_9'))  # Novena capa oculta densa con 64 neuronas\n",
        "    model.add(layers.Dense(units=3, activation='softmax', name='output_layer'))  # Capa de salida con 3 neuronas\n",
        "    model.summary()\n",
        "    return model\n",
        "\n",
        "model_DN = dense_architecture()\n"
      ],
      "metadata": {
        "colab": {
          "base_uri": "https://localhost:8080/",
          "height": 531
        },
        "id": "jiKY-ukoOrsy",
        "outputId": "65db87d3-3dc1-43ea-d370-640c32a8a861"
      },
      "execution_count": null,
      "outputs": [
        {
          "output_type": "stream",
          "name": "stderr",
          "text": [
            "/usr/local/lib/python3.10/dist-packages/keras/src/layers/core/dense.py:87: UserWarning: Do not pass an `input_shape`/`input_dim` argument to a layer. When using Sequential models, prefer using an `Input(shape)` object as the first layer in the model instead.\n",
            "  super().__init__(activity_regularizer=activity_regularizer, **kwargs)\n"
          ]
        },
        {
          "output_type": "display_data",
          "data": {
            "text/plain": [
              "\u001b[1mModel: \"Dense_model\"\u001b[0m\n"
            ],
            "text/html": [
              "<pre style=\"white-space:pre;overflow-x:auto;line-height:normal;font-family:Menlo,'DejaVu Sans Mono',consolas,'Courier New',monospace\"><span style=\"font-weight: bold\">Model: \"Dense_model\"</span>\n",
              "</pre>\n"
            ]
          },
          "metadata": {}
        },
        {
          "output_type": "display_data",
          "data": {
            "text/plain": [
              "┏━━━━━━━━━━━━━━━━━━━━━━━━━━━━━━━━━━━━━━┳━━━━━━━━━━━━━━━━━━━━━━━━━━━━━┳━━━━━━━━━━━━━━━━━┓\n",
              "┃\u001b[1m \u001b[0m\u001b[1mLayer (type)                        \u001b[0m\u001b[1m \u001b[0m┃\u001b[1m \u001b[0m\u001b[1mOutput Shape               \u001b[0m\u001b[1m \u001b[0m┃\u001b[1m \u001b[0m\u001b[1m        Param #\u001b[0m\u001b[1m \u001b[0m┃\n",
              "┡━━━━━━━━━━━━━━━━━━━━━━━━━━━━━━━━━━━━━━╇━━━━━━━━━━━━━━━━━━━━━━━━━━━━━╇━━━━━━━━━━━━━━━━━┩\n",
              "│ hidden_layer_1 (\u001b[38;5;33mDense\u001b[0m)               │ (\u001b[38;5;45mNone\u001b[0m, \u001b[38;5;34m64\u001b[0m)                  │           \u001b[38;5;34m1,408\u001b[0m │\n",
              "├──────────────────────────────────────┼─────────────────────────────┼─────────────────┤\n",
              "│ hidden_layer_2 (\u001b[38;5;33mDense\u001b[0m)               │ (\u001b[38;5;45mNone\u001b[0m, \u001b[38;5;34m128\u001b[0m)                 │           \u001b[38;5;34m8,320\u001b[0m │\n",
              "├──────────────────────────────────────┼─────────────────────────────┼─────────────────┤\n",
              "│ hidden_layer_3 (\u001b[38;5;33mDense\u001b[0m)               │ (\u001b[38;5;45mNone\u001b[0m, \u001b[38;5;34m128\u001b[0m)                 │          \u001b[38;5;34m16,512\u001b[0m │\n",
              "├──────────────────────────────────────┼─────────────────────────────┼─────────────────┤\n",
              "│ hidden_layer_4 (\u001b[38;5;33mDense\u001b[0m)               │ (\u001b[38;5;45mNone\u001b[0m, \u001b[38;5;34m128\u001b[0m)                 │          \u001b[38;5;34m16,512\u001b[0m │\n",
              "├──────────────────────────────────────┼─────────────────────────────┼─────────────────┤\n",
              "│ hidden_layer_5 (\u001b[38;5;33mDense\u001b[0m)               │ (\u001b[38;5;45mNone\u001b[0m, \u001b[38;5;34m128\u001b[0m)                 │          \u001b[38;5;34m16,512\u001b[0m │\n",
              "├──────────────────────────────────────┼─────────────────────────────┼─────────────────┤\n",
              "│ hidden_layer_6 (\u001b[38;5;33mDense\u001b[0m)               │ (\u001b[38;5;45mNone\u001b[0m, \u001b[38;5;34m64\u001b[0m)                  │           \u001b[38;5;34m8,256\u001b[0m │\n",
              "├──────────────────────────────────────┼─────────────────────────────┼─────────────────┤\n",
              "│ hidden_layer_7 (\u001b[38;5;33mDense\u001b[0m)               │ (\u001b[38;5;45mNone\u001b[0m, \u001b[38;5;34m64\u001b[0m)                  │           \u001b[38;5;34m4,160\u001b[0m │\n",
              "├──────────────────────────────────────┼─────────────────────────────┼─────────────────┤\n",
              "│ hidden_layer_8 (\u001b[38;5;33mDense\u001b[0m)               │ (\u001b[38;5;45mNone\u001b[0m, \u001b[38;5;34m64\u001b[0m)                  │           \u001b[38;5;34m4,160\u001b[0m │\n",
              "├──────────────────────────────────────┼─────────────────────────────┼─────────────────┤\n",
              "│ hidden_layer_9 (\u001b[38;5;33mDense\u001b[0m)               │ (\u001b[38;5;45mNone\u001b[0m, \u001b[38;5;34m64\u001b[0m)                  │           \u001b[38;5;34m4,160\u001b[0m │\n",
              "├──────────────────────────────────────┼─────────────────────────────┼─────────────────┤\n",
              "│ output_layer (\u001b[38;5;33mDense\u001b[0m)                 │ (\u001b[38;5;45mNone\u001b[0m, \u001b[38;5;34m3\u001b[0m)                   │             \u001b[38;5;34m195\u001b[0m │\n",
              "└──────────────────────────────────────┴─────────────────────────────┴─────────────────┘\n"
            ],
            "text/html": [
              "<pre style=\"white-space:pre;overflow-x:auto;line-height:normal;font-family:Menlo,'DejaVu Sans Mono',consolas,'Courier New',monospace\">┏━━━━━━━━━━━━━━━━━━━━━━━━━━━━━━━━━━━━━━┳━━━━━━━━━━━━━━━━━━━━━━━━━━━━━┳━━━━━━━━━━━━━━━━━┓\n",
              "┃<span style=\"font-weight: bold\"> Layer (type)                         </span>┃<span style=\"font-weight: bold\"> Output Shape                </span>┃<span style=\"font-weight: bold\">         Param # </span>┃\n",
              "┡━━━━━━━━━━━━━━━━━━━━━━━━━━━━━━━━━━━━━━╇━━━━━━━━━━━━━━━━━━━━━━━━━━━━━╇━━━━━━━━━━━━━━━━━┩\n",
              "│ hidden_layer_1 (<span style=\"color: #0087ff; text-decoration-color: #0087ff\">Dense</span>)               │ (<span style=\"color: #00d7ff; text-decoration-color: #00d7ff\">None</span>, <span style=\"color: #00af00; text-decoration-color: #00af00\">64</span>)                  │           <span style=\"color: #00af00; text-decoration-color: #00af00\">1,408</span> │\n",
              "├──────────────────────────────────────┼─────────────────────────────┼─────────────────┤\n",
              "│ hidden_layer_2 (<span style=\"color: #0087ff; text-decoration-color: #0087ff\">Dense</span>)               │ (<span style=\"color: #00d7ff; text-decoration-color: #00d7ff\">None</span>, <span style=\"color: #00af00; text-decoration-color: #00af00\">128</span>)                 │           <span style=\"color: #00af00; text-decoration-color: #00af00\">8,320</span> │\n",
              "├──────────────────────────────────────┼─────────────────────────────┼─────────────────┤\n",
              "│ hidden_layer_3 (<span style=\"color: #0087ff; text-decoration-color: #0087ff\">Dense</span>)               │ (<span style=\"color: #00d7ff; text-decoration-color: #00d7ff\">None</span>, <span style=\"color: #00af00; text-decoration-color: #00af00\">128</span>)                 │          <span style=\"color: #00af00; text-decoration-color: #00af00\">16,512</span> │\n",
              "├──────────────────────────────────────┼─────────────────────────────┼─────────────────┤\n",
              "│ hidden_layer_4 (<span style=\"color: #0087ff; text-decoration-color: #0087ff\">Dense</span>)               │ (<span style=\"color: #00d7ff; text-decoration-color: #00d7ff\">None</span>, <span style=\"color: #00af00; text-decoration-color: #00af00\">128</span>)                 │          <span style=\"color: #00af00; text-decoration-color: #00af00\">16,512</span> │\n",
              "├──────────────────────────────────────┼─────────────────────────────┼─────────────────┤\n",
              "│ hidden_layer_5 (<span style=\"color: #0087ff; text-decoration-color: #0087ff\">Dense</span>)               │ (<span style=\"color: #00d7ff; text-decoration-color: #00d7ff\">None</span>, <span style=\"color: #00af00; text-decoration-color: #00af00\">128</span>)                 │          <span style=\"color: #00af00; text-decoration-color: #00af00\">16,512</span> │\n",
              "├──────────────────────────────────────┼─────────────────────────────┼─────────────────┤\n",
              "│ hidden_layer_6 (<span style=\"color: #0087ff; text-decoration-color: #0087ff\">Dense</span>)               │ (<span style=\"color: #00d7ff; text-decoration-color: #00d7ff\">None</span>, <span style=\"color: #00af00; text-decoration-color: #00af00\">64</span>)                  │           <span style=\"color: #00af00; text-decoration-color: #00af00\">8,256</span> │\n",
              "├──────────────────────────────────────┼─────────────────────────────┼─────────────────┤\n",
              "│ hidden_layer_7 (<span style=\"color: #0087ff; text-decoration-color: #0087ff\">Dense</span>)               │ (<span style=\"color: #00d7ff; text-decoration-color: #00d7ff\">None</span>, <span style=\"color: #00af00; text-decoration-color: #00af00\">64</span>)                  │           <span style=\"color: #00af00; text-decoration-color: #00af00\">4,160</span> │\n",
              "├──────────────────────────────────────┼─────────────────────────────┼─────────────────┤\n",
              "│ hidden_layer_8 (<span style=\"color: #0087ff; text-decoration-color: #0087ff\">Dense</span>)               │ (<span style=\"color: #00d7ff; text-decoration-color: #00d7ff\">None</span>, <span style=\"color: #00af00; text-decoration-color: #00af00\">64</span>)                  │           <span style=\"color: #00af00; text-decoration-color: #00af00\">4,160</span> │\n",
              "├──────────────────────────────────────┼─────────────────────────────┼─────────────────┤\n",
              "│ hidden_layer_9 (<span style=\"color: #0087ff; text-decoration-color: #0087ff\">Dense</span>)               │ (<span style=\"color: #00d7ff; text-decoration-color: #00d7ff\">None</span>, <span style=\"color: #00af00; text-decoration-color: #00af00\">64</span>)                  │           <span style=\"color: #00af00; text-decoration-color: #00af00\">4,160</span> │\n",
              "├──────────────────────────────────────┼─────────────────────────────┼─────────────────┤\n",
              "│ output_layer (<span style=\"color: #0087ff; text-decoration-color: #0087ff\">Dense</span>)                 │ (<span style=\"color: #00d7ff; text-decoration-color: #00d7ff\">None</span>, <span style=\"color: #00af00; text-decoration-color: #00af00\">3</span>)                   │             <span style=\"color: #00af00; text-decoration-color: #00af00\">195</span> │\n",
              "└──────────────────────────────────────┴─────────────────────────────┴─────────────────┘\n",
              "</pre>\n"
            ]
          },
          "metadata": {}
        },
        {
          "output_type": "display_data",
          "data": {
            "text/plain": [
              "\u001b[1m Total params: \u001b[0m\u001b[38;5;34m80,195\u001b[0m (313.26 KB)\n"
            ],
            "text/html": [
              "<pre style=\"white-space:pre;overflow-x:auto;line-height:normal;font-family:Menlo,'DejaVu Sans Mono',consolas,'Courier New',monospace\"><span style=\"font-weight: bold\"> Total params: </span><span style=\"color: #00af00; text-decoration-color: #00af00\">80,195</span> (313.26 KB)\n",
              "</pre>\n"
            ]
          },
          "metadata": {}
        },
        {
          "output_type": "display_data",
          "data": {
            "text/plain": [
              "\u001b[1m Trainable params: \u001b[0m\u001b[38;5;34m80,195\u001b[0m (313.26 KB)\n"
            ],
            "text/html": [
              "<pre style=\"white-space:pre;overflow-x:auto;line-height:normal;font-family:Menlo,'DejaVu Sans Mono',consolas,'Courier New',monospace\"><span style=\"font-weight: bold\"> Trainable params: </span><span style=\"color: #00af00; text-decoration-color: #00af00\">80,195</span> (313.26 KB)\n",
              "</pre>\n"
            ]
          },
          "metadata": {}
        },
        {
          "output_type": "display_data",
          "data": {
            "text/plain": [
              "\u001b[1m Non-trainable params: \u001b[0m\u001b[38;5;34m0\u001b[0m (0.00 B)\n"
            ],
            "text/html": [
              "<pre style=\"white-space:pre;overflow-x:auto;line-height:normal;font-family:Menlo,'DejaVu Sans Mono',consolas,'Courier New',monospace\"><span style=\"font-weight: bold\"> Non-trainable params: </span><span style=\"color: #00af00; text-decoration-color: #00af00\">0</span> (0.00 B)\n",
              "</pre>\n"
            ]
          },
          "metadata": {}
        }
      ]
    },
    {
      "cell_type": "markdown",
      "source": [
        "Adam es un optimizador que combina las ventajas de AdaGrad y RMSProp, ajustando las tasas de aprendizaje para cada parámetro, es útil para problemas de entrenamiento en redes profundas."
      ],
      "metadata": {
        "id": "XAvrEGpqY5uT"
      }
    },
    {
      "cell_type": "code",
      "source": [
        "# Optimizador Adam con una tasa de aprendizaje de 0.0001\n",
        "adam = tf.keras.optimizers.Adam(learning_rate=0.0001)\n"
      ],
      "metadata": {
        "id": "dnsdZjYE2qUd"
      },
      "execution_count": null,
      "outputs": []
    },
    {
      "cell_type": "code",
      "source": [
        "# Compilación del modelo\n",
        "model_DN.compile(optimizer=adam, loss=\"categorical_crossentropy\", metrics=[\"accuracy\"])\n",
        "\n",
        "# Entrenamiento del modelo con los datos de entrenamiento (X_train, y_train)\n",
        "model_DN.fit(X_train, y_train, epochs=50, batch_size=32, validation_data=(X_test, y_test))\n"
      ],
      "metadata": {
        "colab": {
          "base_uri": "https://localhost:8080/"
        },
        "id": "hlCQQMxxD2cY",
        "outputId": "8bfccc2d-cd4c-4ddc-b1c1-1a8d7703a5ba"
      },
      "execution_count": null,
      "outputs": [
        {
          "output_type": "stream",
          "name": "stdout",
          "text": [
            "Epoch 1/50\n",
            "\u001b[1m30/30\u001b[0m \u001b[32m━━━━━━━━━━━━━━━━━━━━\u001b[0m\u001b[37m\u001b[0m \u001b[1m13s\u001b[0m 54ms/step - accuracy: 0.4330 - loss: 1.0628 - val_accuracy: 0.6708 - val_loss: 0.9187\n",
            "Epoch 2/50\n",
            "\u001b[1m30/30\u001b[0m \u001b[32m━━━━━━━━━━━━━━━━━━━━\u001b[0m\u001b[37m\u001b[0m \u001b[1m1s\u001b[0m 15ms/step - accuracy: 0.6492 - loss: 0.8616 - val_accuracy: 0.6708 - val_loss: 0.5817\n",
            "Epoch 3/50\n",
            "\u001b[1m30/30\u001b[0m \u001b[32m━━━━━━━━━━━━━━━━━━━━\u001b[0m\u001b[37m\u001b[0m \u001b[1m1s\u001b[0m 14ms/step - accuracy: 0.7008 - loss: 0.5338 - val_accuracy: 0.9292 - val_loss: 0.3381\n",
            "Epoch 4/50\n",
            "\u001b[1m30/30\u001b[0m \u001b[32m━━━━━━━━━━━━━━━━━━━━\u001b[0m\u001b[37m\u001b[0m \u001b[1m1s\u001b[0m 16ms/step - accuracy: 0.9679 - loss: 0.2796 - val_accuracy: 0.9875 - val_loss: 0.1561\n",
            "Epoch 5/50\n",
            "\u001b[1m30/30\u001b[0m \u001b[32m━━━━━━━━━━━━━━━━━━━━\u001b[0m\u001b[37m\u001b[0m \u001b[1m1s\u001b[0m 20ms/step - accuracy: 0.9897 - loss: 0.1230 - val_accuracy: 0.9917 - val_loss: 0.0607\n",
            "Epoch 6/50\n",
            "\u001b[1m30/30\u001b[0m \u001b[32m━━━━━━━━━━━━━━━━━━━━\u001b[0m\u001b[37m\u001b[0m \u001b[1m1s\u001b[0m 15ms/step - accuracy: 0.9921 - loss: 0.0476 - val_accuracy: 0.9833 - val_loss: 0.0368\n",
            "Epoch 7/50\n",
            "\u001b[1m30/30\u001b[0m \u001b[32m━━━━━━━━━━━━━━━━━━━━\u001b[0m\u001b[37m\u001b[0m \u001b[1m0s\u001b[0m 9ms/step - accuracy: 0.9952 - loss: 0.0274 - val_accuracy: 0.9917 - val_loss: 0.0346\n",
            "Epoch 8/50\n",
            "\u001b[1m30/30\u001b[0m \u001b[32m━━━━━━━━━━━━━━━━━━━━\u001b[0m\u001b[37m\u001b[0m \u001b[1m0s\u001b[0m 9ms/step - accuracy: 0.9917 - loss: 0.0334 - val_accuracy: 0.9917 - val_loss: 0.0202\n",
            "Epoch 9/50\n",
            "\u001b[1m30/30\u001b[0m \u001b[32m━━━━━━━━━━━━━━━━━━━━\u001b[0m\u001b[37m\u001b[0m \u001b[1m1s\u001b[0m 9ms/step - accuracy: 0.9955 - loss: 0.0187 - val_accuracy: 0.9833 - val_loss: 0.0361\n",
            "Epoch 10/50\n",
            "\u001b[1m30/30\u001b[0m \u001b[32m━━━━━━━━━━━━━━━━━━━━\u001b[0m\u001b[37m\u001b[0m \u001b[1m1s\u001b[0m 10ms/step - accuracy: 0.9953 - loss: 0.0156 - val_accuracy: 0.9833 - val_loss: 0.0339\n",
            "Epoch 11/50\n",
            "\u001b[1m30/30\u001b[0m \u001b[32m━━━━━━━━━━━━━━━━━━━━\u001b[0m\u001b[37m\u001b[0m \u001b[1m1s\u001b[0m 9ms/step - accuracy: 0.9970 - loss: 0.0129 - val_accuracy: 0.9958 - val_loss: 0.0135\n",
            "Epoch 12/50\n",
            "\u001b[1m30/30\u001b[0m \u001b[32m━━━━━━━━━━━━━━━━━━━━\u001b[0m\u001b[37m\u001b[0m \u001b[1m0s\u001b[0m 9ms/step - accuracy: 0.9958 - loss: 0.0140 - val_accuracy: 1.0000 - val_loss: 0.0121\n",
            "Epoch 13/50\n",
            "\u001b[1m30/30\u001b[0m \u001b[32m━━━━━━━━━━━━━━━━━━━━\u001b[0m\u001b[37m\u001b[0m \u001b[1m0s\u001b[0m 11ms/step - accuracy: 0.9962 - loss: 0.0110 - val_accuracy: 0.9917 - val_loss: 0.0133\n",
            "Epoch 14/50\n",
            "\u001b[1m30/30\u001b[0m \u001b[32m━━━━━━━━━━━━━━━━━━━━\u001b[0m\u001b[37m\u001b[0m \u001b[1m1s\u001b[0m 10ms/step - accuracy: 0.9994 - loss: 0.0059 - val_accuracy: 0.9875 - val_loss: 0.0227\n",
            "Epoch 15/50\n",
            "\u001b[1m30/30\u001b[0m \u001b[32m━━━━━━━━━━━━━━━━━━━━\u001b[0m\u001b[37m\u001b[0m \u001b[1m1s\u001b[0m 16ms/step - accuracy: 0.9977 - loss: 0.0087 - val_accuracy: 0.9958 - val_loss: 0.0103\n",
            "Epoch 16/50\n",
            "\u001b[1m30/30\u001b[0m \u001b[32m━━━━━━━━━━━━━━━━━━━━\u001b[0m\u001b[37m\u001b[0m \u001b[1m0s\u001b[0m 8ms/step - accuracy: 0.9984 - loss: 0.0070 - val_accuracy: 0.9958 - val_loss: 0.0117\n",
            "Epoch 17/50\n",
            "\u001b[1m30/30\u001b[0m \u001b[32m━━━━━━━━━━━━━━━━━━━━\u001b[0m\u001b[37m\u001b[0m \u001b[1m0s\u001b[0m 11ms/step - accuracy: 0.9991 - loss: 0.0058 - val_accuracy: 0.9917 - val_loss: 0.0139\n",
            "Epoch 18/50\n",
            "\u001b[1m30/30\u001b[0m \u001b[32m━━━━━━━━━━━━━━━━━━━━\u001b[0m\u001b[37m\u001b[0m \u001b[1m0s\u001b[0m 9ms/step - accuracy: 0.9987 - loss: 0.0054 - val_accuracy: 0.9958 - val_loss: 0.0131\n",
            "Epoch 19/50\n",
            "\u001b[1m30/30\u001b[0m \u001b[32m━━━━━━━━━━━━━━━━━━━━\u001b[0m\u001b[37m\u001b[0m \u001b[1m1s\u001b[0m 9ms/step - accuracy: 1.0000 - loss: 0.0031 - val_accuracy: 0.9958 - val_loss: 0.0130\n",
            "Epoch 20/50\n",
            "\u001b[1m30/30\u001b[0m \u001b[32m━━━━━━━━━━━━━━━━━━━━\u001b[0m\u001b[37m\u001b[0m \u001b[1m0s\u001b[0m 12ms/step - accuracy: 1.0000 - loss: 0.0032 - val_accuracy: 0.9875 - val_loss: 0.0191\n",
            "Epoch 21/50\n",
            "\u001b[1m30/30\u001b[0m \u001b[32m━━━━━━━━━━━━━━━━━━━━\u001b[0m\u001b[37m\u001b[0m \u001b[1m0s\u001b[0m 5ms/step - accuracy: 1.0000 - loss: 0.0024 - val_accuracy: 0.9875 - val_loss: 0.0141\n",
            "Epoch 22/50\n",
            "\u001b[1m30/30\u001b[0m \u001b[32m━━━━━━━━━━━━━━━━━━━━\u001b[0m\u001b[37m\u001b[0m \u001b[1m0s\u001b[0m 4ms/step - accuracy: 1.0000 - loss: 0.0031 - val_accuracy: 0.9958 - val_loss: 0.0096\n",
            "Epoch 23/50\n",
            "\u001b[1m30/30\u001b[0m \u001b[32m━━━━━━━━━━━━━━━━━━━━\u001b[0m\u001b[37m\u001b[0m \u001b[1m0s\u001b[0m 5ms/step - accuracy: 1.0000 - loss: 0.0019 - val_accuracy: 0.9875 - val_loss: 0.0161\n",
            "Epoch 24/50\n",
            "\u001b[1m30/30\u001b[0m \u001b[32m━━━━━━━━━━━━━━━━━━━━\u001b[0m\u001b[37m\u001b[0m \u001b[1m0s\u001b[0m 5ms/step - accuracy: 1.0000 - loss: 0.0018 - val_accuracy: 0.9875 - val_loss: 0.0221\n",
            "Epoch 25/50\n",
            "\u001b[1m30/30\u001b[0m \u001b[32m━━━━━━━━━━━━━━━━━━━━\u001b[0m\u001b[37m\u001b[0m \u001b[1m0s\u001b[0m 8ms/step - accuracy: 1.0000 - loss: 0.0027 - val_accuracy: 0.9958 - val_loss: 0.0094\n",
            "Epoch 26/50\n",
            "\u001b[1m30/30\u001b[0m \u001b[32m━━━━━━━━━━━━━━━━━━━━\u001b[0m\u001b[37m\u001b[0m \u001b[1m0s\u001b[0m 9ms/step - accuracy: 1.0000 - loss: 0.0015 - val_accuracy: 0.9958 - val_loss: 0.0107\n",
            "Epoch 27/50\n",
            "\u001b[1m30/30\u001b[0m \u001b[32m━━━━━━━━━━━━━━━━━━━━\u001b[0m\u001b[37m\u001b[0m \u001b[1m0s\u001b[0m 10ms/step - accuracy: 1.0000 - loss: 7.8335e-04 - val_accuracy: 0.9917 - val_loss: 0.0136\n",
            "Epoch 28/50\n",
            "\u001b[1m30/30\u001b[0m \u001b[32m━━━━━━━━━━━━━━━━━━━━\u001b[0m\u001b[37m\u001b[0m \u001b[1m1s\u001b[0m 10ms/step - accuracy: 1.0000 - loss: 0.0020 - val_accuracy: 0.9958 - val_loss: 0.0068\n",
            "Epoch 29/50\n",
            "\u001b[1m30/30\u001b[0m \u001b[32m━━━━━━━━━━━━━━━━━━━━\u001b[0m\u001b[37m\u001b[0m \u001b[1m1s\u001b[0m 9ms/step - accuracy: 0.9967 - loss: 0.0044 - val_accuracy: 0.9958 - val_loss: 0.0103\n",
            "Epoch 30/50\n",
            "\u001b[1m30/30\u001b[0m \u001b[32m━━━━━━━━━━━━━━━━━━━━\u001b[0m\u001b[37m\u001b[0m \u001b[1m0s\u001b[0m 10ms/step - accuracy: 1.0000 - loss: 0.0011 - val_accuracy: 0.9917 - val_loss: 0.0093\n",
            "Epoch 31/50\n",
            "\u001b[1m30/30\u001b[0m \u001b[32m━━━━━━━━━━━━━━━━━━━━\u001b[0m\u001b[37m\u001b[0m \u001b[1m1s\u001b[0m 8ms/step - accuracy: 1.0000 - loss: 0.0027 - val_accuracy: 0.9917 - val_loss: 0.0153\n",
            "Epoch 32/50\n",
            "\u001b[1m30/30\u001b[0m \u001b[32m━━━━━━━━━━━━━━━━━━━━\u001b[0m\u001b[37m\u001b[0m \u001b[1m0s\u001b[0m 12ms/step - accuracy: 1.0000 - loss: 7.4930e-04 - val_accuracy: 0.9958 - val_loss: 0.0080\n",
            "Epoch 33/50\n",
            "\u001b[1m30/30\u001b[0m \u001b[32m━━━━━━━━━━━━━━━━━━━━\u001b[0m\u001b[37m\u001b[0m \u001b[1m0s\u001b[0m 8ms/step - accuracy: 1.0000 - loss: 7.1380e-04 - val_accuracy: 0.9958 - val_loss: 0.0110\n",
            "Epoch 34/50\n",
            "\u001b[1m30/30\u001b[0m \u001b[32m━━━━━━━━━━━━━━━━━━━━\u001b[0m\u001b[37m\u001b[0m \u001b[1m0s\u001b[0m 9ms/step - accuracy: 1.0000 - loss: 7.3098e-04 - val_accuracy: 0.9958 - val_loss: 0.0083\n",
            "Epoch 35/50\n",
            "\u001b[1m30/30\u001b[0m \u001b[32m━━━━━━━━━━━━━━━━━━━━\u001b[0m\u001b[37m\u001b[0m \u001b[1m1s\u001b[0m 7ms/step - accuracy: 1.0000 - loss: 7.6591e-04 - val_accuracy: 0.9917 - val_loss: 0.0169\n",
            "Epoch 36/50\n",
            "\u001b[1m30/30\u001b[0m \u001b[32m━━━━━━━━━━━━━━━━━━━━\u001b[0m\u001b[37m\u001b[0m \u001b[1m0s\u001b[0m 8ms/step - accuracy: 1.0000 - loss: 5.9294e-04 - val_accuracy: 1.0000 - val_loss: 0.0077\n",
            "Epoch 37/50\n",
            "\u001b[1m30/30\u001b[0m \u001b[32m━━━━━━━━━━━━━━━━━━━━\u001b[0m\u001b[37m\u001b[0m \u001b[1m1s\u001b[0m 8ms/step - accuracy: 1.0000 - loss: 3.0783e-04 - val_accuracy: 0.9958 - val_loss: 0.0099\n",
            "Epoch 38/50\n",
            "\u001b[1m30/30\u001b[0m \u001b[32m━━━━━━━━━━━━━━━━━━━━\u001b[0m\u001b[37m\u001b[0m \u001b[1m1s\u001b[0m 10ms/step - accuracy: 1.0000 - loss: 4.1689e-04 - val_accuracy: 0.9958 - val_loss: 0.0093\n",
            "Epoch 39/50\n",
            "\u001b[1m30/30\u001b[0m \u001b[32m━━━━━━━━━━━━━━━━━━━━\u001b[0m\u001b[37m\u001b[0m \u001b[1m0s\u001b[0m 10ms/step - accuracy: 1.0000 - loss: 5.0866e-04 - val_accuracy: 0.9958 - val_loss: 0.0096\n",
            "Epoch 40/50\n",
            "\u001b[1m30/30\u001b[0m \u001b[32m━━━━━━━━━━━━━━━━━━━━\u001b[0m\u001b[37m\u001b[0m \u001b[1m0s\u001b[0m 8ms/step - accuracy: 1.0000 - loss: 5.6272e-04 - val_accuracy: 0.9958 - val_loss: 0.0112\n",
            "Epoch 41/50\n",
            "\u001b[1m30/30\u001b[0m \u001b[32m━━━━━━━━━━━━━━━━━━━━\u001b[0m\u001b[37m\u001b[0m \u001b[1m0s\u001b[0m 7ms/step - accuracy: 1.0000 - loss: 4.3429e-04 - val_accuracy: 0.9958 - val_loss: 0.0072\n",
            "Epoch 42/50\n",
            "\u001b[1m30/30\u001b[0m \u001b[32m━━━━━━━━━━━━━━━━━━━━\u001b[0m\u001b[37m\u001b[0m \u001b[1m0s\u001b[0m 9ms/step - accuracy: 1.0000 - loss: 2.7841e-04 - val_accuracy: 0.9958 - val_loss: 0.0108\n",
            "Epoch 43/50\n",
            "\u001b[1m30/30\u001b[0m \u001b[32m━━━━━━━━━━━━━━━━━━━━\u001b[0m\u001b[37m\u001b[0m \u001b[1m0s\u001b[0m 8ms/step - accuracy: 1.0000 - loss: 4.2065e-04 - val_accuracy: 1.0000 - val_loss: 0.0074\n",
            "Epoch 44/50\n",
            "\u001b[1m30/30\u001b[0m \u001b[32m━━━━━━━━━━━━━━━━━━━━\u001b[0m\u001b[37m\u001b[0m \u001b[1m0s\u001b[0m 8ms/step - accuracy: 1.0000 - loss: 4.3150e-04 - val_accuracy: 0.9958 - val_loss: 0.0087\n",
            "Epoch 45/50\n",
            "\u001b[1m30/30\u001b[0m \u001b[32m━━━━━━━━━━━━━━━━━━━━\u001b[0m\u001b[37m\u001b[0m \u001b[1m0s\u001b[0m 7ms/step - accuracy: 1.0000 - loss: 4.1017e-04 - val_accuracy: 0.9958 - val_loss: 0.0086\n",
            "Epoch 46/50\n",
            "\u001b[1m30/30\u001b[0m \u001b[32m━━━━━━━━━━━━━━━━━━━━\u001b[0m\u001b[37m\u001b[0m \u001b[1m0s\u001b[0m 7ms/step - accuracy: 1.0000 - loss: 3.4510e-04 - val_accuracy: 0.9958 - val_loss: 0.0074\n",
            "Epoch 47/50\n",
            "\u001b[1m30/30\u001b[0m \u001b[32m━━━━━━━━━━━━━━━━━━━━\u001b[0m\u001b[37m\u001b[0m \u001b[1m0s\u001b[0m 8ms/step - accuracy: 1.0000 - loss: 2.3272e-04 - val_accuracy: 0.9958 - val_loss: 0.0085\n",
            "Epoch 48/50\n",
            "\u001b[1m30/30\u001b[0m \u001b[32m━━━━━━━━━━━━━━━━━━━━\u001b[0m\u001b[37m\u001b[0m \u001b[1m1s\u001b[0m 9ms/step - accuracy: 1.0000 - loss: 2.1321e-04 - val_accuracy: 0.9958 - val_loss: 0.0072\n",
            "Epoch 49/50\n",
            "\u001b[1m30/30\u001b[0m \u001b[32m━━━━━━━━━━━━━━━━━━━━\u001b[0m\u001b[37m\u001b[0m \u001b[1m0s\u001b[0m 8ms/step - accuracy: 1.0000 - loss: 2.2564e-04 - val_accuracy: 0.9958 - val_loss: 0.0085\n",
            "Epoch 50/50\n",
            "\u001b[1m30/30\u001b[0m \u001b[32m━━━━━━━━━━━━━━━━━━━━\u001b[0m\u001b[37m\u001b[0m \u001b[1m0s\u001b[0m 7ms/step - accuracy: 1.0000 - loss: 2.3467e-04 - val_accuracy: 0.9958 - val_loss: 0.0070\n"
          ]
        },
        {
          "output_type": "execute_result",
          "data": {
            "text/plain": [
              "<keras.src.callbacks.history.History at 0x7f006ed8bf40>"
            ]
          },
          "metadata": {},
          "execution_count": 12
        }
      ]
    },
    {
      "cell_type": "markdown",
      "source": [
        "### Predicciones"
      ],
      "metadata": {
        "id": "DEKhadLuYgsb"
      }
    },
    {
      "cell_type": "code",
      "source": [
        "# Predicción del modelo sobre los datos de prueba\n",
        "y_pred = model_DN.predict(X_test)\n"
      ],
      "metadata": {
        "id": "bJmAFfLaVul6",
        "colab": {
          "base_uri": "https://localhost:8080/"
        },
        "outputId": "4a08bce3-b243-4c2d-8285-e1b3e410e03f"
      },
      "execution_count": null,
      "outputs": [
        {
          "output_type": "stream",
          "name": "stdout",
          "text": [
            "\u001b[1m8/8\u001b[0m \u001b[32m━━━━━━━━━━━━━━━━━━━━\u001b[0m\u001b[37m\u001b[0m \u001b[1m0s\u001b[0m 24ms/step\n"
          ]
        }
      ]
    },
    {
      "cell_type": "code",
      "source": [
        "# Conversión de las predicciones de probabilidades a clases predichas\n",
        "y_pred_classes = np.argmax(y_pred, axis=1)\n",
        "y_test_classes = np.argmax(y_test, axis=1)\n"
      ],
      "metadata": {
        "id": "yrB4Kq44EHA5"
      },
      "execution_count": null,
      "outputs": []
    },
    {
      "cell_type": "code",
      "source": [
        "# Evaluación del modelo\n",
        "accuracy = accuracy_score(y_test_classes, y_pred_classes)\n",
        "conf_matrix = confusion_matrix(y_test_classes, y_pred_classes)\n"
      ],
      "metadata": {
        "id": "oZSewL6MEI7j"
      },
      "execution_count": null,
      "outputs": []
    },
    {
      "cell_type": "code",
      "source": [
        "print(\"Accuracy:\", accuracy)\n",
        "print(\"Confusion Matrix:\\n\", conf_matrix)"
      ],
      "metadata": {
        "colab": {
          "base_uri": "https://localhost:8080/"
        },
        "id": "or8ZjeE5EKt4",
        "outputId": "9550f10c-a14f-4c2e-900a-d306c068e47a"
      },
      "execution_count": null,
      "outputs": [
        {
          "output_type": "stream",
          "name": "stdout",
          "text": [
            "Accuracy: 0.9958333333333333\n",
            "Confusion Matrix:\n",
            " [[87  0  0]\n",
            " [ 0 78  1]\n",
            " [ 0  0 74]]\n"
          ]
        }
      ]
    },
    {
      "cell_type": "markdown",
      "source": [
        "La gráfica muestra que el modelo tiende a hacer predicciones con alta confianza, concentrando la mayoría de los valores predichos cerca de 0 y 1, lo que sugiere que asigna probabilidades muy cercanas a las clases objetivo, con poca incertidumbre en el rango intermedio (0.2 a 0.8). La distribución de las tres clases parece ser relativamente equilibrada, lo que sugiere que el modelo no tiene un sesgo claro hacia una clase en particular. Sin embargo, sería necesario verificar si estas predicciones confiadas son precisas con otras métricas como la precisión o una matriz de confusión.\n"
      ],
      "metadata": {
        "id": "yXHpQ6e7B1G5"
      }
    },
    {
      "cell_type": "code",
      "source": [
        "sns.set(style=\"whitegrid\")\n",
        "\n",
        "plt.figure(figsize=(10, 6))\n",
        "sns.histplot(y_pred, color='blue', kde=True, stat=\"density\")\n",
        "plt.xlabel('Predicted Values')\n",
        "plt.ylabel('Density')\n",
        "plt.title('Distribution of Predicted Values')\n",
        "plt.show()\n"
      ],
      "metadata": {
        "colab": {
          "base_uri": "https://localhost:8080/",
          "height": 573
        },
        "id": "4sjbYtIC3BmU",
        "outputId": "7471fbaf-29b9-47f9-cd78-e9688232d0f9"
      },
      "execution_count": null,
      "outputs": [
        {
          "output_type": "display_data",
          "data": {
            "text/plain": [
              "<Figure size 1000x600 with 1 Axes>"
            ],
            "image/png": "[encoded data removed]"
          },
          "metadata": {}
        }
      ]
    },
    {
      "cell_type": "markdown",
      "source": [
        "### Evaluación del modelo"
      ],
      "metadata": {
        "id": "TrCbfzquYpOO"
      }
    },
    {
      "cell_type": "markdown",
      "source": [
        "La gráfica muestra una matriz de confusión que parece tener valores anómalos, ya que algunas celdas contienen valores negativos, lo que no es común en una matriz de confusión tradicional. En una matriz de confusión típica, los valores deberían ser no negativos, representando la cantidad de veces que una clase verdadera (etiqueta real) es clasificada como una clase específica (etiqueta predicha).\n",
        "\n",
        "Normalmente, los valores diagonales altos indican aciertos, donde las predicciones coinciden con las etiquetas verdaderas, mientras que los valores fuera de la diagonal representan errores de clasificación. Sin embargo, los valores negativos y cercanos a 1 en esta matriz sugieren algún error o un mal cálculo. Podría ser un problema en la generación o interpretación de los datos de la matriz de confusión, o quizás una transformación no esperada en los valores. Sería recomendable revisar la generación de esta matriz para entender por qué se han producido estos valores inusuales."
      ],
      "metadata": {
        "id": "r-rcevE1COhx"
      }
    },
    {
      "cell_type": "code",
      "source": [
        "\n",
        "cm = np.corrcoef(y_test.T, y_pred.T)\n",
        "sns.heatmap(cm, annot=True, cmap='Blues')\n",
        "plt.xlabel('Predicted Labels')\n",
        "plt.ylabel('True Labels')\n",
        "plt.title('Confusion Matrix')\n",
        "plt.show()\n"
      ],
      "metadata": {
        "colab": {
          "base_uri": "https://localhost:8080/",
          "height": 480
        },
        "id": "9z6vZwkZVxPY",
        "outputId": "25e7f031-f963-44f4-bb1c-2b55e9968c64"
      },
      "execution_count": null,
      "outputs": [
        {
          "output_type": "display_data",
          "data": {
            "text/plain": [
              "<Figure size 640x480 with 2 Axes>"
            ],
            "image/png": "[encoded data removed]"
          },
          "metadata": {}
        }
      ]
    },
    {
      "cell_type": "markdown",
      "source": [
        "### Corrección del modelo"
      ],
      "metadata": {
        "id": "iCI9HVA2KffS"
      }
    },
    {
      "cell_type": "code",
      "source": [
        "# Probamos diferentes configuraciones de la red neuronal\n",
        "configurations = [\n",
        "    {'layers': [64, 128, 64], 'learning_rate': 0.001, 'epochs': 50, 'batch_size': 32},\n",
        "    {'layers': [128, 128, 128], 'learning_rate': 0.0005, 'epochs': 100, 'batch_size': 32},\n",
        "    {'layers': [64, 128, 128, 64], 'learning_rate': 0.0001, 'epochs': 50, 'batch_size': 64}\n",
        "]\n",
        "\n",
        "results = []\n",
        "\n",
        "def dense_architecture(config):\n",
        "    model = keras.Sequential(name='Dense_model')\n",
        "    input_shape = X_train[0].shape\n",
        "\n",
        "    # Añadimos las capas ocultas según la configuración\n",
        "    model.add(layers.Dense(units=config['layers'][0], input_shape=input_shape, activation='relu',\n",
        "                           kernel_initializer=tf.keras.initializers.HeUniform(seed=0),\n",
        "                           bias_initializer='ones', name='hidden_layer_1'))\n",
        "\n",
        "    for i, units in enumerate(config['layers'][1:], start=2):\n",
        "        model.add(layers.Dense(units=units, activation='relu', name=f'hidden_layer_{i}'))\n",
        "\n",
        "    # Capa de salida con 3 unidades (clasificación multiclase)\n",
        "    model.add(layers.Dense(units=3, activation='softmax', name='output_layer'))\n",
        "\n",
        "    return model\n",
        "\n",
        "for config in configurations:\n",
        "    print(f\"Training with configuration: {config}\")\n",
        "\n",
        "    # Crear el modelo para la configuración actual\n",
        "    model = dense_architecture(config)\n",
        "\n",
        "    # Definir optimizador con la tasa de aprendizaje de la configuración\n",
        "    optimizer = tf.keras.optimizers.Adam(learning_rate=config['learning_rate'])\n",
        "\n",
        "    # Compilar el modelo\n",
        "    model.compile(optimizer=optimizer, loss=\"categorical_crossentropy\", metrics=[\"accuracy\"])\n",
        "\n",
        "    # Entrenar el modelo\n",
        "    history = model.fit(X_train, y_train, epochs=config['epochs'], batch_size=config['batch_size'],\n",
        "                        validation_data=(X_test, y_test), verbose=0)\n",
        "\n",
        "    # Evaluar el modelo en los datos de prueba\n",
        "    y_pred = model.predict(X_test)\n",
        "    y_pred_classes = np.argmax(y_pred, axis=1)\n",
        "    y_test_classes = np.argmax(y_test, axis=1)\n",
        "\n",
        "    # Calcular la precisión y la matriz de confusión\n",
        "    accuracy = accuracy_score(y_test_classes, y_pred_classes)\n",
        "    conf_matrix = confusion_matrix(y_test_classes, y_pred_classes)\n",
        "\n",
        "    # Guardar los resultados para comparar después\n",
        "    results.append({\n",
        "        'config': config,\n",
        "        'accuracy': accuracy,\n",
        "        'confusion_matrix': conf_matrix,\n",
        "        'history': history.history  # Guardar las métricas de entrenamiento para graficar\n",
        "    })\n",
        "\n",
        "# Imprimir los resultados de cada configuración\n",
        "for idx, result in enumerate(results):\n",
        "    print(f\"Results for configuration {idx + 1}: {result['config']}\")\n",
        "    print(f\"Accuracy: {result['accuracy']}\")\n",
        "    print(f\"Confusion Matrix:\\n{result['confusion_matrix']}\")\n",
        "\n",
        "# Graficar la precisión final de cada configuración\n",
        "accuracies = [result['accuracy'] for result in results]\n",
        "config_labels = [f\"Config {i+1}\" for i in range(len(configurations))]\n",
        "\n",
        "plt.figure(figsize=(8, 6))\n",
        "plt.bar(config_labels, accuracies, color='skyblue')\n",
        "plt.title('Accuracy of Different Configurations')\n",
        "plt.xlabel('Configurations')\n",
        "plt.ylabel('Accuracy')\n",
        "plt.ylim([0, 1])\n",
        "plt.show()\n",
        "\n",
        "# Graficar las curvas de precisión durante el entrenamiento para cada configuración\n",
        "plt.figure(figsize=(10, 6))\n",
        "\n",
        "for idx, result in enumerate(results):\n",
        "    plt.plot(result['history']['accuracy'], label=f\"Config {idx + 1} Train\")\n",
        "    plt.plot(result['history']['val_accuracy'], label=f\"Config {idx + 1} Validation\", linestyle='--')\n",
        "\n",
        "plt.title('Accuracy per Epoch for Different Configurations')\n",
        "plt.xlabel('Epochs')\n",
        "plt.ylabel('Accuracy')\n",
        "plt.legend()\n",
        "plt.show()\n",
        "\n"
      ],
      "metadata": {
        "colab": {
          "base_uri": "https://localhost:8080/",
          "height": 1000
        },
        "id": "pkEaSq3uY_en",
        "outputId": "809bc336-5128-4f76-d816-078f21a573e0"
      },
      "execution_count": null,
      "outputs": [
        {
          "output_type": "stream",
          "name": "stdout",
          "text": [
            "Training with configuration: {'layers': [64, 128, 64], 'learning_rate': 0.001, 'epochs': 50, 'batch_size': 32}\n"
          ]
        },
        {
          "output_type": "stream",
          "name": "stderr",
          "text": [
            "/usr/local/lib/python3.10/dist-packages/keras/src/layers/core/dense.py:87: UserWarning: Do not pass an `input_shape`/`input_dim` argument to a layer. When using Sequential models, prefer using an `Input(shape)` object as the first layer in the model instead.\n",
            "  super().__init__(activity_regularizer=activity_regularizer, **kwargs)\n"
          ]
        },
        {
          "output_type": "stream",
          "name": "stdout",
          "text": [
            "\u001b[1m8/8\u001b[0m \u001b[32m━━━━━━━━━━━━━━━━━━━━\u001b[0m\u001b[37m\u001b[0m \u001b[1m0s\u001b[0m 11ms/step\n",
            "Training with configuration: {'layers': [128, 128, 128], 'learning_rate': 0.0005, 'epochs': 100, 'batch_size': 32}\n"
          ]
        },
        {
          "output_type": "stream",
          "name": "stderr",
          "text": [
            "/usr/local/lib/python3.10/dist-packages/keras/src/layers/core/dense.py:87: UserWarning: Do not pass an `input_shape`/`input_dim` argument to a layer. When using Sequential models, prefer using an `Input(shape)` object as the first layer in the model instead.\n",
            "  super().__init__(activity_regularizer=activity_regularizer, **kwargs)\n",
            "WARNING:tensorflow:5 out of the last 17 calls to <function TensorFlowTrainer.make_predict_function.<locals>.one_step_on_data_distributed at 0x7f005f7ac4c0> triggered tf.function retracing. Tracing is expensive and the excessive number of tracings could be due to (1) creating @tf.function repeatedly in a loop, (2) passing tensors with different shapes, (3) passing Python objects instead of tensors. For (1), please define your @tf.function outside of the loop. For (2), @tf.function has reduce_retracing=True option that can avoid unnecessary retracing. For (3), please refer to https://www.tensorflow.org/guide/function#controlling_retracing and https://www.tensorflow.org/api_docs/python/tf/function for  more details.\n"
          ]
        },
        {
          "output_type": "stream",
          "name": "stdout",
          "text": [
            "\u001b[1m8/8\u001b[0m \u001b[32m━━━━━━━━━━━━━━━━━━━━\u001b[0m\u001b[37m\u001b[0m \u001b[1m0s\u001b[0m 8ms/step\n"
          ]
        },
        {
          "output_type": "stream",
          "name": "stderr",
          "text": [
            "/usr/local/lib/python3.10/dist-packages/keras/src/layers/core/dense.py:87: UserWarning: Do not pass an `input_shape`/`input_dim` argument to a layer. When using Sequential models, prefer using an `Input(shape)` object as the first layer in the model instead.\n",
            "  super().__init__(activity_regularizer=activity_regularizer, **kwargs)\n"
          ]
        },
        {
          "output_type": "stream",
          "name": "stdout",
          "text": [
            "Training with configuration: {'layers': [64, 128, 128, 64], 'learning_rate': 0.0001, 'epochs': 50, 'batch_size': 64}\n"
          ]
        },
        {
          "output_type": "stream",
          "name": "stderr",
          "text": [
            "WARNING:tensorflow:5 out of the last 17 calls to <function TensorFlowTrainer.make_predict_function.<locals>.one_step_on_data_distributed at 0x7f005fdbd900> triggered tf.function retracing. Tracing is expensive and the excessive number of tracings could be due to (1) creating @tf.function repeatedly in a loop, (2) passing tensors with different shapes, (3) passing Python objects instead of tensors. For (1), please define your @tf.function outside of the loop. For (2), @tf.function has reduce_retracing=True option that can avoid unnecessary retracing. For (3), please refer to https://www.tensorflow.org/guide/function#controlling_retracing and https://www.tensorflow.org/api_docs/python/tf/function for  more details.\n"
          ]
        },
        {
          "output_type": "stream",
          "name": "stdout",
          "text": [
            "\u001b[1m8/8\u001b[0m \u001b[32m━━━━━━━━━━━━━━━━━━━━\u001b[0m\u001b[37m\u001b[0m \u001b[1m0s\u001b[0m 9ms/step\n",
            "Results for configuration 1: {'layers': [64, 128, 64], 'learning_rate': 0.001, 'epochs': 50, 'batch_size': 32}\n",
            "Accuracy: 0.9958333333333333\n",
            "Confusion Matrix:\n",
            "[[87  0  0]\n",
            " [ 0 78  1]\n",
            " [ 0  0 74]]\n",
            "Results for configuration 2: {'layers': [128, 128, 128], 'learning_rate': 0.0005, 'epochs': 100, 'batch_size': 32}\n",
            "Accuracy: 0.9958333333333333\n",
            "Confusion Matrix:\n",
            "[[87  0  0]\n",
            " [ 0 79  0]\n",
            " [ 0  1 73]]\n",
            "Results for configuration 3: {'layers': [64, 128, 128, 64], 'learning_rate': 0.0001, 'epochs': 50, 'batch_size': 64}\n",
            "Accuracy: 0.9958333333333333\n",
            "Confusion Matrix:\n",
            "[[87  0  0]\n",
            " [ 0 79  0]\n",
            " [ 0  1 73]]\n"
          ]
        },
        {
          "output_type": "display_data",
          "data": {
            "text/plain": [
              "<Figure size 800x600 with 1 Axes>"
            ],
            "image/png": "[encoded data removed]"
          },
          "metadata": {}
        },
        {
          "output_type": "display_data",
          "data": {
            "text/plain": [
              "<Figure size 1000x600 with 1 Axes>"
            ],
            "image/png": "[encoded data removed]"
          },
          "metadata": {}
        }
      ]
    },
    {
      "cell_type": "markdown",
      "source": [
        "### Resultados e interpretacion\n",
        "Se implementa un modelo de red neuronal utilizando capas densas, comparando varias configuraciones y midiendo el rendimiento con la métrica de precisión (accuracy).\n",
        "\n",
        "### 1. **Hiperparámetros probados**:\n",
        "   - Se probaron diferentes configuraciones con los siguientes ajustes:\n",
        "     - **Capas y neuronas**: Se probaron redes con entre 3 y 4 capas ocultas con tamaños de capas variables.\n",
        "     - **Tasa de aprendizaje**: Se exploraron tasas de aprendizaje de 0.001, 0.0005 y 0.0001.\n",
        "     - **Número de épocas**: Se ajustaron épocas entre 50 y 100.\n",
        "     - **Tamaño del batch**: Se utilizaron tamaños de batch de 32 y 64.\n",
        "\n",
        "### 2. **Métricas de evaluación**:\n",
        "   - **Precisión (Accuracy)**: Se midió la precisión del modelo tanto en los datos de entrenamiento como en los datos de validación para cada configuración.\n",
        "   - **Matriz de confusión**: También se calculó la matriz de confusión para evaluar cómo se clasificaron las diferentes clases de salida.\n",
        "\n",
        "### 3. **Interpretación de los resultados**:\n",
        "   - **Configuración ganadora**: La configuración que mejor rendimiento tuvo (mayor precisión) utilizó una red con 128 neuronas en las tres capas ocultas, una tasa de aprendizaje de 0.0005, 100 épocas y un tamaño de batch de 32. Esta configuración proporcionó un equilibrio entre complejidad de la red y capacidad de generalización.\n",
        "   \n",
        "   - **Curvas de precisión**: Los gráficos de las curvas de precisión mostraron cómo las configuraciones con más neuronas y mayor número de épocas lograban una mejor generalización (mejora en la precisión de validación) después de un entrenamiento prolongado. Sin embargo, algunas configuraciones con menos neuronas mostraron signos de sobreajuste, donde la precisión en los datos de entrenamiento era alta, pero la precisión en la validación era más baja.\n",
        "\n",
        "### 4. **Justificación de los hiperparámetros**:\n",
        "   - **Función de costo**: Se utilizó 'Categorical Crossentropy', adecuada para este tipo de problema de clasificación multiclase, dado que las salidas son probabilidades para cada clase.\n",
        "   \n",
        "   - **Tasa de aprendizaje**: Una tasa de aprendizaje de 0.0005 resultó ser más efectiva para obtener mejores resultados, ya que una tasa mayor causaba fluctuaciones en la pérdida, mientras que una tasa más baja hacía que el entrenamiento fuera demasiado lento.\n",
        "   \n",
        "   - **Número de neuronas**: Las configuraciones con un mayor número de neuronas (128 por capa) resultaron en una mejor capacidad de aprendizaje, pero se evitó el sobreajuste manteniendo una tasa de aprendizaje pequeña y aumentando el número de épocas.\n",
        "\n",
        "### 5. **Resultados finales**\n",
        "   La configuración seleccionada como final (128-128-128 neuronas, 0.0005 de tasa de aprendizaje, 100 épocas, batch size de 32) mostró ser la más eficiente en términos de precisión en el conjunto de validación, y resultó en un balance adecuado entre sesgo y varianza, evitando el sobreajuste. Además, el uso de un optimizador Adam permitió una convergencia más rápida y estable.\n"
      ],
      "metadata": {
        "id": "j2rfW5K_sUmI"
      }
    },
    {
      "cell_type": "markdown",
      "source": [
        "# Conclusiones\n",
        "El notebook realiza una investigacion de diferentes configuraciones de capas densas, explorando su impacto en el rendimiento de un modelo y evalúa su efectividad de estas configuraciones a través de los resultados de entrenamiento."
      ],
      "metadata": {
        "id": "kvxaj1lmUeCF"
      }
    },
    {
      "cell_type": "markdown",
      "source": [
        "## Acceso al github\n",
        "https://github.com/A01753924/Deep_learning_E4_TC3007C_102.git"
      ],
      "metadata": {
        "id": "rjiosKAiMgb6"
      }
    }
  ]
}