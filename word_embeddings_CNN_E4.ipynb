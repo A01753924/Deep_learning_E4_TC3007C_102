{
 "cells": [
  {
   "cell_type": "markdown",
   "metadata": {},
   "source": [
    "# CNN + Word Embeddings "
   ]
  },
  {
   "cell_type": "markdown",
   "metadata": {},
   "source": [
    "## Equipo 4:\n",
    "\n",
    "\n",
    "*   Karla Andrea Palma Villanueva (A01754270)\n",
    "*   Viviana Alanis Fraige (A01236316)\n",
    "* David Fernando Armendariz Torres (A01570813)\n",
    "* Alan Alberto Mota Yescas (A01753924)\n",
    "* Adrián Chávez Morales (A01568679)\n",
    "* Jose Manuel Armendáriz Mena (A01197583)"
   ]
  },
  {
   "cell_type": "markdown",
   "metadata": {},
   "source": [
    "### Introducción\n"
   ]
  },
  {
   "cell_type": "markdown",
   "metadata": {},
   "source": [
    "Este notebook implementa un modelo de clasificación de texto utilizando Redes Neuronales Convolucionales (CNN) combinadas con embeddings de palabras para convertir el texto en representaciones numéricas. El proceso incluye la tokenización del texto, el uso de una capa de embeddings, y la extracción de patrones locales mediante capas Conv1D, junto con técnicas de regularización como Dropout y optimización con Adam. Se comparan diferentes configuraciones de hiperparámetros y optimizadores, buscando maximizar la precisión en la clasificación. El objetivo es construir un modelo eficiente para clasificar textos en categorías específicas, con aplicaciones potenciales en análisis de sentimientos, categorización de noticias o clasificación de reseñas."
   ]
  },
  {
   "cell_type": "markdown",
   "metadata": {},
   "source": [
    "### Exploración, explicación y limpieza de datos"
   ]
  },
  {
   "cell_type": "markdown",
   "metadata": {},
   "source": [
    "#### Origen y Contexto del Dataset Stanford dogs\n",
    "\n",
    "\n",
    "El IMDB Movie Reviews Dataset es un conjunto de datos ampliamente utilizado para tareas de clasificación binaria de texto, donde el objetivo es predecir si una reseña de película tiene una connotación positiva o negativa. Fue recopilado por Andrew Maas y publicado en un artículo académico titulado \"Learning Word Vectors for Sentiment Analysis\" en la Universidad de Stanford en 2011. Desde su creación, ha sido una referencia fundamental en el campo del procesamiento de lenguaje natural (NLP) para entrenar y evaluar modelos de análisis de sentimientos.\n",
    "\n",
    "Este dataset contiene 50,000 reseñas de películas, divididas equitativamente en dos subconjuntos: 25,000 para entrenamiento y 25,000 para prueba, permitiendo una evaluación objetiva del desempeño de los modelos sin riesgo de sobreajuste. Cada reseña está etiquetada como positiva o negativa, con un equilibrio perfecto entre ambas clases, lo que asegura que los algoritmos de aprendizaje no se vean influenciados por un sesgo hacia alguna categoría. Las reseñas varían en extensión y estilo, lo que plantea un reto interesante para los modelos de procesamiento del lenguaje al intentar capturar la riqueza de las expresiones humanas.\n",
    "\n",
    "Debido a su estructura clara y tamaño manejable, el dataset de IMDB ha sido ampliamente adoptado como un estándar para el análisis de sentimientos. Es utilizado en múltiples enfoques, desde modelos tradicionales como bolsa de palabras (Bag-of-Words) y TF-IDF, hasta enfoques más sofisticados como redes neuronales convolucionales (CNN) y LSTM. Además, las características del dataset lo convierten en un excelente recurso para explorar embeddings de palabras y probar técnicas de regularización y optimización. Este conjunto de datos tiene aplicaciones prácticas significativas en áreas como sistemas de recomendación y análisis de reseñas en plataformas de streaming y comercio electrónico, donde comprender las opiniones de los usuarios es fundamental para la toma de decisiones empresariales."
   ]
  },
  {
   "cell_type": "markdown",
   "metadata": {},
   "source": [
    "#### Obtención del Dataset\n",
    "\n",
    "El IMDB Movie Reviews Dataset está disponible para acceso público y se puede obtener desde diferentes plataformas utilizadas por investigadores y profesionales en el campo del procesamiento de lenguaje natural (NLP). La forma más directa es descargarlo desde el sitio oficial de Stanford como parte del trabajo de investigación realizado por Andrew Maas, o también a través de bibliotecas populares de aprendizaje automático como TensorFlow y Keras, que ofrecen versiones preprocesadas listas para su uso.\n",
    "\n",
    "Para obtener el dataset desde Keras, simplemente se puede cargar usando la API de la biblioteca con el siguiente código:\n",
    "\n",
    "```python\n",
    "from tensorflow.keras.datasets import imdb\n",
    "(train_data, train_labels), (test_data, test_labels) = imdb.load_data(num_words=10000)\n",
    "```\n",
    "\n",
    "Este enfoque proporciona el dataset ya tokenizado, con las palabras representadas como índices enteros, lo que facilita el uso inmediato en modelos de redes neuronales. Por otro lado, la versión completa del dataset, incluyendo las reseñas en formato de texto sin procesar, está disponible en el sitio web de Stanford: [http://ai.stanford.edu/~amaas/data/sentiment/](http://ai.stanford.edu/~amaas/data/sentiment/).\n",
    "\n",
    "El acceso a través de estas fuentes permite que tanto estudiantes como profesionales exploren y desarrollen modelos de análisis de sentimientos de manera eficiente. Además, plataformas como Kaggle ofrecen este dataset como parte de competencias y ejercicios prácticos, brindando oportunidades adicionales para aprender y mejorar habilidades en NLP."
   ]
  },
  {
   "cell_type": "code",
   "execution_count": null,
   "metadata": {},
   "outputs": [],
   "source": [
    "#Importación de librerías\n",
    "from tensorflow.keras.datasets import imdb\n",
    "import numpy as np\n",
    "from tensorflow.keras.preprocessing.sequence import pad_sequences\n",
    "from tensorflow.keras.models import Sequential\n",
    "from tensorflow.keras.layers import Embedding, Conv1D, GlobalMaxPooling1D, Dense\n",
    "import plotly.graph_objs as go\n",
    "from plotly.subplots import make_subplots\n",
    "from tensorflow.keras.models import Sequential\n",
    "from tensorflow.keras.layers import Embedding, Conv1D, GlobalMaxPooling1D, Dense, Dropout\n",
    "from tensorflow.keras.callbacks import EarlyStopping\n",
    "from tensorflow.keras.optimizers import RMSprop\n",
    "from tensorflow.keras.preprocessing.sequence import pad_sequences\n",
    "import plotly.graph_objs as go\n",
    "from plotly.subplots import make_subplots\n"
   ]
  },
  {
   "cell_type": "code",
   "execution_count": 1,
   "metadata": {},
   "outputs": [
    {
     "name": "stdout",
     "output_type": "stream",
     "text": [
      "Downloading data from https://storage.googleapis.com/tensorflow/tf-keras-datasets/imdb.npz\n",
      "\u001b[1m17464789/17464789\u001b[0m \u001b[32m━━━━━━━━━━━━━━━━━━━━\u001b[0m\u001b[37m\u001b[0m \u001b[1m2s\u001b[0m 0us/step\n",
      "Tamaño del conjunto de entrenamiento: 25000\n",
      "Tamaño del conjunto de prueba: 25000\n"
     ]
    }
   ],
   "source": [
    "\n",
    "# Cargar los datos de IMDB con un vocabulario limitado a las 5000 palabras más frecuentes\n",
    "vocab_size = 5000\n",
    "(X_train, y_train), (X_test, y_test) = imdb.load_data(num_words=vocab_size)\n",
    "\n",
    "print(f\"Tamaño del conjunto de entrenamiento: {len(X_train)}\")\n",
    "print(f\"Tamaño del conjunto de prueba: {len(X_test)}\")\n"
   ]
  },
  {
   "cell_type": "markdown",
   "metadata": {},
   "source": [
    "#### Análisis del dataset: número de columnas, instancias, tipos de datos.\n"
   ]
  },
  {
   "cell_type": "markdown",
   "metadata": {},
   "source": [
    "El dataset de IMDB se cargó correctamente con un vocabulario limitado a las 5000 palabras más frecuentes, distribuyendo 25,000 reseñas tanto para el conjunto de entrenamiento como para el de prueba. Cada reseña está tokenizada como una lista de enteros y etiquetada como 0 (negativa) o 1 (positiva), mostrando en el ejemplo que la primera reseña es positiva. Además, el análisis del tipo de datos confirma que el dataset se almacena como un numpy.ndarray y cada reseña individualmente como una lista de enteros, lo que asegura que los datos están preparados para su procesamiento. Las reseñas presentan una alta variabilidad en su longitud, con un mínimo de 11 palabras, un máximo de 2494 y una media de 238.71, lo que indica la necesidad de preprocesamiento adicional, como padding o truncado, para garantizar la uniformidad de entrada en el modelo.\n",
    "\n",
    "El mapeo del vocabulario permite decodificar las reseñas desde enteros a texto original, verificándose con éxito al traducir la primera reseña a una frase comprensible. Además, el análisis de la distribución de etiquetas muestra un equilibrio perfecto entre clases, con 12,500 reseñas positivas y 12,500 negativas en ambos conjuntos, lo que evita sesgos durante el entrenamiento y facilita el desarrollo de un modelo robusto. Con estos pasos iniciales, se establece una base sólida para la construcción del modelo de clasificación de texto, con datos bien equilibrados y preparados, listos para pasar al entrenamiento y evaluación del modelo."
   ]
  },
  {
   "cell_type": "markdown",
   "metadata": {},
   "source": [
    "Ejemplo de la primera reseña y su etiqueta"
   ]
  },
  {
   "cell_type": "code",
   "execution_count": 2,
   "metadata": {},
   "outputs": [
    {
     "name": "stdout",
     "output_type": "stream",
     "text": [
      "Primera reseña (como lista de enteros): [1, 14, 22, 16, 43, 530, 973, 1622, 1385, 65, 458, 4468, 66, 3941, 4, 173, 36, 256, 5, 25, 100, 43, 838, 112, 50, 670, 2, 9, 35, 480, 284, 5, 150, 4, 172, 112, 167, 2, 336, 385, 39, 4, 172, 4536, 1111, 17, 546, 38, 13, 447, 4, 192, 50, 16, 6, 147, 2025, 19, 14, 22, 4, 1920, 4613, 469, 4, 22, 71, 87, 12, 16, 43, 530, 38, 76, 15, 13, 1247, 4, 22, 17, 515, 17, 12, 16, 626, 18, 2, 5, 62, 386, 12, 8, 316, 8, 106, 5, 4, 2223, 2, 16, 480, 66, 3785, 33, 4, 130, 12, 16, 38, 619, 5, 25, 124, 51, 36, 135, 48, 25, 1415, 33, 6, 22, 12, 215, 28, 77, 52, 5, 14, 407, 16, 82, 2, 8, 4, 107, 117, 2, 15, 256, 4, 2, 7, 3766, 5, 723, 36, 71, 43, 530, 476, 26, 400, 317, 46, 7, 4, 2, 1029, 13, 104, 88, 4, 381, 15, 297, 98, 32, 2071, 56, 26, 141, 6, 194, 2, 18, 4, 226, 22, 21, 134, 476, 26, 480, 5, 144, 30, 2, 18, 51, 36, 28, 224, 92, 25, 104, 4, 226, 65, 16, 38, 1334, 88, 12, 16, 283, 5, 16, 4472, 113, 103, 32, 15, 16, 2, 19, 178, 32]\n",
      "Etiqueta de la primera reseña: 1\n"
     ]
    }
   ],
   "source": [
    "# Ver la primera reseña y su etiqueta\n",
    "print(f\"Primera reseña (como lista de enteros): {X_train[0]}\")\n",
    "print(f\"Etiqueta de la primera reseña: {y_train[0]}\")  # 0 = negativa, 1 = positiva\n"
   ]
  },
  {
   "cell_type": "markdown",
   "metadata": {},
   "source": [
    "Verificar el tipo de datos y dimensiones"
   ]
  },
  {
   "cell_type": "code",
   "execution_count": 3,
   "metadata": {},
   "outputs": [
    {
     "name": "stdout",
     "output_type": "stream",
     "text": [
      "Tipo de X_train: <class 'numpy.ndarray'>\n",
      "Tipo de una instancia de X_train: <class 'list'>\n",
      "Número de reseñas en entrenamiento: 25000\n",
      "Número de reseñas en prueba: 25000\n"
     ]
    }
   ],
   "source": [
    "# Tipo de los datos\n",
    "print(f\"Tipo de X_train: {type(X_train)}\")\n",
    "print(f\"Tipo de una instancia de X_train: {type(X_train[0])}\")\n",
    "\n",
    "# Dimensiones del dataset\n",
    "print(f\"Número de reseñas en entrenamiento: {len(X_train)}\")\n",
    "print(f\"Número de reseñas en prueba: {len(X_test)}\")\n"
   ]
  },
  {
   "cell_type": "markdown",
   "metadata": {},
   "source": [
    "Longitud de las reseñas"
   ]
  },
  {
   "cell_type": "code",
   "execution_count": 4,
   "metadata": {},
   "outputs": [
    {
     "name": "stdout",
     "output_type": "stream",
     "text": [
      "Longitud de la primera reseña: 218\n",
      "Longitud mínima: 11\n",
      "Longitud máxima: 2494\n",
      "Longitud promedio: 238.71\n"
     ]
    }
   ],
   "source": [
    "# longitud de la primera reseña\n",
    "print(f\"Longitud de la primera reseña: {len(X_train[0])}\")\n",
    "\n",
    "#  estadísticas de longitud \n",
    "longitudes = [len(review) for review in X_train]\n",
    "print(f\"Longitud mínima: {min(longitudes)}\")\n",
    "print(f\"Longitud máxima: {max(longitudes)}\")\n",
    "print(f\"Longitud promedio: {sum(longitudes) / len(longitudes):.2f}\")\n"
   ]
  },
  {
   "cell_type": "markdown",
   "metadata": {},
   "source": [
    "Mapeo de los Datos (Decodificar las Palabras)"
   ]
  },
  {
   "cell_type": "code",
   "execution_count": 5,
   "metadata": {},
   "outputs": [
    {
     "name": "stdout",
     "output_type": "stream",
     "text": [
      "Downloading data from https://storage.googleapis.com/tensorflow/tf-keras-datasets/imdb_word_index.json\n",
      "\u001b[1m1641221/1641221\u001b[0m \u001b[32m━━━━━━━━━━━━━━━━━━━━\u001b[0m\u001b[37m\u001b[0m \u001b[1m0s\u001b[0m 0us/step\n",
      "Primera reseña decodificada: ? this film was just brilliant casting location scenery story direction everyone's really suited the part they played and you could just imagine being there robert ? is an amazing actor and now the same being director ? father came from the same scottish island as myself so i loved the fact there was a real connection with this film the witty remarks throughout the film were great it was just brilliant so much that i bought the film as soon as it was released for ? and would recommend it to everyone to watch and the fly ? was amazing really cried at the end it was so sad and you know what they say if you cry at a film it must have been good and this definitely was also ? to the two little ? that played the ? of norman and paul they were just brilliant children are often left out of the ? list i think because the stars that play them all grown up are such a big ? for the whole film but these children are amazing and should be ? for what they have done don't you think the whole story was so lovely because it was true and was someone's life after all that was ? with us all\n"
     ]
    }
   ],
   "source": [
    "# mapa palabra -> índice\n",
    "word_index = imdb.get_word_index()\n",
    "\n",
    "# mapa índice -> palabra\n",
    "reverse_word_index = {value: key for key, value in word_index.items()}\n",
    "\n",
    "# Decodificar la primera reseña\n",
    "decoded_review = ' '.join([reverse_word_index.get(i - 3, '?') for i in X_train[0]])  # Restamos 3 porque los primeros índices se reservan para tokens especiales\n",
    "print(f\"Primera reseña decodificada: {decoded_review}\")\n"
   ]
  },
  {
   "cell_type": "markdown",
   "metadata": {},
   "source": [
    "Distribución de las Etiquetas"
   ]
  },
  {
   "cell_type": "code",
   "execution_count": 6,
   "metadata": {},
   "outputs": [
    {
     "name": "stdout",
     "output_type": "stream",
     "text": [
      "Distribución de etiquetas en entrenamiento: {0: 12500, 1: 12500}\n",
      "Distribución de etiquetas en prueba: {0: 12500, 1: 12500}\n"
     ]
    }
   ],
   "source": [
    "\n",
    "# etiquetas en entrenamiento y prueba\n",
    "unique, counts = np.unique(y_train, return_counts=True)\n",
    "print(f\"Distribución de etiquetas en entrenamiento: {dict(zip(unique, counts))}\")\n",
    "\n",
    "unique, counts = np.unique(y_test, return_counts=True)\n",
    "print(f\"Distribución de etiquetas en prueba: {dict(zip(unique, counts))}\")\n"
   ]
  },
  {
   "cell_type": "markdown",
   "metadata": {},
   "source": [
    "#### Procesos de limpieza"
   ]
  },
  {
   "cell_type": "markdown",
   "metadata": {},
   "source": [
    "El dataset de IMDB, al estar preprocesado, no requiere limpieza adicional, ya que las reseñas se presentan tokenizadas como listas de enteros y ya se han eliminado elementos como puntuación, símbolos especiales y palabras irrelevantes. Además, al limitar el vocabulario a las 5000 palabras más frecuentes, se garantiza que solo se utilicen los términos más relevantes para el análisis, lo que facilita el proceso de modelado. Esta preparación permite enfocarse en tareas como el padding o truncado para igualar las longitudes de las reseñas, sin necesidad de aplicar técnicas de limpieza típicas como eliminación de caracteres extraños o manejo de valores nulos."
   ]
  },
  {
   "cell_type": "markdown",
   "metadata": {},
   "source": [
    "### Desarrollo del Modelo de Deep Learning"
   ]
  },
  {
   "cell_type": "markdown",
   "metadata": {},
   "source": [
    "#### Preprocesamiento de datos"
   ]
  },
  {
   "cell_type": "markdown",
   "metadata": {},
   "source": [
    "La unificación de las secuencias a una longitud máxima de 500 palabras es crucial para garantizar la consistencia en las entradas del modelo, permitiendo que todas las reseñas tengan la misma dimensión. Esto asegura que las redes neuronales puedan procesar los datos en lotes sin generar errores por diferencias en las longitudes. El uso de padding y truncado optimiza el equilibrio entre la retención de información relevante y la eficiencia computacional, facilitando un entrenamiento fluido del modelo. Además, esta preparación mejora el manejo de memoria y asegura que el procesamiento sea uniforme, lo que es esencial para obtener un desempeño predecible y efectivo en la clasificación de las reseñas."
   ]
  },
  {
   "cell_type": "markdown",
   "metadata": {},
   "source": [
    "#### Arquitectura del modelo "
   ]
  },
  {
   "cell_type": "code",
   "execution_count": 8,
   "metadata": {},
   "outputs": [
    {
     "name": "stderr",
     "output_type": "stream",
     "text": [
      "c:\\Users\\Alan\\AppData\\Local\\Programs\\Python\\Python310\\lib\\site-packages\\keras\\src\\layers\\core\\embedding.py:90: UserWarning: Argument `input_length` is deprecated. Just remove it.\n",
      "  warnings.warn(\n"
     ]
    },
    {
     "data": {
      "text/html": [
       "<pre style=\"white-space:pre;overflow-x:auto;line-height:normal;font-family:Menlo,'DejaVu Sans Mono',consolas,'Courier New',monospace\"><span style=\"font-weight: bold\">Model: \"sequential\"</span>\n",
       "</pre>\n"
      ],
      "text/plain": [
       "\u001b[1mModel: \"sequential\"\u001b[0m\n"
      ]
     },
     "metadata": {},
     "output_type": "display_data"
    },
    {
     "data": {
      "text/html": [
       "<pre style=\"white-space:pre;overflow-x:auto;line-height:normal;font-family:Menlo,'DejaVu Sans Mono',consolas,'Courier New',monospace\">┏━━━━━━━━━━━━━━━━━━━━━━━━━━━━━━━━━┳━━━━━━━━━━━━━━━━━━━━━━━━┳━━━━━━━━━━━━━━━┓\n",
       "┃<span style=\"font-weight: bold\"> Layer (type)                    </span>┃<span style=\"font-weight: bold\"> Output Shape           </span>┃<span style=\"font-weight: bold\">       Param # </span>┃\n",
       "┡━━━━━━━━━━━━━━━━━━━━━━━━━━━━━━━━━╇━━━━━━━━━━━━━━━━━━━━━━━━╇━━━━━━━━━━━━━━━┩\n",
       "│ embedding (<span style=\"color: #0087ff; text-decoration-color: #0087ff\">Embedding</span>)           │ ?                      │   <span style=\"color: #00af00; text-decoration-color: #00af00\">0</span> (unbuilt) │\n",
       "├─────────────────────────────────┼────────────────────────┼───────────────┤\n",
       "│ conv1d (<span style=\"color: #0087ff; text-decoration-color: #0087ff\">Conv1D</span>)                 │ ?                      │   <span style=\"color: #00af00; text-decoration-color: #00af00\">0</span> (unbuilt) │\n",
       "├─────────────────────────────────┼────────────────────────┼───────────────┤\n",
       "│ global_max_pooling1d            │ ?                      │             <span style=\"color: #00af00; text-decoration-color: #00af00\">0</span> │\n",
       "│ (<span style=\"color: #0087ff; text-decoration-color: #0087ff\">GlobalMaxPooling1D</span>)            │                        │               │\n",
       "├─────────────────────────────────┼────────────────────────┼───────────────┤\n",
       "│ dense (<span style=\"color: #0087ff; text-decoration-color: #0087ff\">Dense</span>)                   │ ?                      │   <span style=\"color: #00af00; text-decoration-color: #00af00\">0</span> (unbuilt) │\n",
       "├─────────────────────────────────┼────────────────────────┼───────────────┤\n",
       "│ dense_1 (<span style=\"color: #0087ff; text-decoration-color: #0087ff\">Dense</span>)                 │ ?                      │   <span style=\"color: #00af00; text-decoration-color: #00af00\">0</span> (unbuilt) │\n",
       "└─────────────────────────────────┴────────────────────────┴───────────────┘\n",
       "</pre>\n"
      ],
      "text/plain": [
       "┏━━━━━━━━━━━━━━━━━━━━━━━━━━━━━━━━━┳━━━━━━━━━━━━━━━━━━━━━━━━┳━━━━━━━━━━━━━━━┓\n",
       "┃\u001b[1m \u001b[0m\u001b[1mLayer (type)                   \u001b[0m\u001b[1m \u001b[0m┃\u001b[1m \u001b[0m\u001b[1mOutput Shape          \u001b[0m\u001b[1m \u001b[0m┃\u001b[1m \u001b[0m\u001b[1m      Param #\u001b[0m\u001b[1m \u001b[0m┃\n",
       "┡━━━━━━━━━━━━━━━━━━━━━━━━━━━━━━━━━╇━━━━━━━━━━━━━━━━━━━━━━━━╇━━━━━━━━━━━━━━━┩\n",
       "│ embedding (\u001b[38;5;33mEmbedding\u001b[0m)           │ ?                      │   \u001b[38;5;34m0\u001b[0m (unbuilt) │\n",
       "├─────────────────────────────────┼────────────────────────┼───────────────┤\n",
       "│ conv1d (\u001b[38;5;33mConv1D\u001b[0m)                 │ ?                      │   \u001b[38;5;34m0\u001b[0m (unbuilt) │\n",
       "├─────────────────────────────────┼────────────────────────┼───────────────┤\n",
       "│ global_max_pooling1d            │ ?                      │             \u001b[38;5;34m0\u001b[0m │\n",
       "│ (\u001b[38;5;33mGlobalMaxPooling1D\u001b[0m)            │                        │               │\n",
       "├─────────────────────────────────┼────────────────────────┼───────────────┤\n",
       "│ dense (\u001b[38;5;33mDense\u001b[0m)                   │ ?                      │   \u001b[38;5;34m0\u001b[0m (unbuilt) │\n",
       "├─────────────────────────────────┼────────────────────────┼───────────────┤\n",
       "│ dense_1 (\u001b[38;5;33mDense\u001b[0m)                 │ ?                      │   \u001b[38;5;34m0\u001b[0m (unbuilt) │\n",
       "└─────────────────────────────────┴────────────────────────┴───────────────┘\n"
      ]
     },
     "metadata": {},
     "output_type": "display_data"
    },
    {
     "data": {
      "text/html": [
       "<pre style=\"white-space:pre;overflow-x:auto;line-height:normal;font-family:Menlo,'DejaVu Sans Mono',consolas,'Courier New',monospace\"><span style=\"font-weight: bold\"> Total params: </span><span style=\"color: #00af00; text-decoration-color: #00af00\">0</span> (0.00 B)\n",
       "</pre>\n"
      ],
      "text/plain": [
       "\u001b[1m Total params: \u001b[0m\u001b[38;5;34m0\u001b[0m (0.00 B)\n"
      ]
     },
     "metadata": {},
     "output_type": "display_data"
    },
    {
     "data": {
      "text/html": [
       "<pre style=\"white-space:pre;overflow-x:auto;line-height:normal;font-family:Menlo,'DejaVu Sans Mono',consolas,'Courier New',monospace\"><span style=\"font-weight: bold\"> Trainable params: </span><span style=\"color: #00af00; text-decoration-color: #00af00\">0</span> (0.00 B)\n",
       "</pre>\n"
      ],
      "text/plain": [
       "\u001b[1m Trainable params: \u001b[0m\u001b[38;5;34m0\u001b[0m (0.00 B)\n"
      ]
     },
     "metadata": {},
     "output_type": "display_data"
    },
    {
     "data": {
      "text/html": [
       "<pre style=\"white-space:pre;overflow-x:auto;line-height:normal;font-family:Menlo,'DejaVu Sans Mono',consolas,'Courier New',monospace\"><span style=\"font-weight: bold\"> Non-trainable params: </span><span style=\"color: #00af00; text-decoration-color: #00af00\">0</span> (0.00 B)\n",
       "</pre>\n"
      ],
      "text/plain": [
       "\u001b[1m Non-trainable params: \u001b[0m\u001b[38;5;34m0\u001b[0m (0.00 B)\n"
      ]
     },
     "metadata": {},
     "output_type": "display_data"
    }
   ],
   "source": [
    "\n",
    "# Parámetros \n",
    "vocab_size = 5000  \n",
    "embedding_dim = 128  \n",
    "max_length = 500  \n",
    "\n",
    "# modelo CNN\n",
    "model = Sequential()\n",
    "model.add(Embedding(input_dim=vocab_size, output_dim=embedding_dim, input_length=max_length))\n",
    "model.add(Conv1D(filters=128, kernel_size=5, activation='relu'))\n",
    "model.add(GlobalMaxPooling1D())\n",
    "model.add(Dense(10, activation='relu'))\n",
    "model.add(Dense(1, activation='sigmoid'))  \n",
    "\n",
    "# Compilación \n",
    "model.compile(optimizer='adam', loss='binary_crossentropy', metrics=['accuracy'])\n",
    "\n",
    "model.summary()\n"
   ]
  },
  {
   "cell_type": "markdown",
   "metadata": {},
   "source": [
    "Este modelo comienza con una capa de embeddings que convierte las palabras representadas como índices enteros en vectores densos de tamaño 128, permitiendo al modelo capturar relaciones semánticas entre las palabras. La entrada a esta capa está limitada a las 5000 palabras más frecuentes del vocabulario, con una longitud máxima de 500 palabras por secuencia.\n",
    "\n",
    "Luego, el modelo incluye una capa Conv1D con 128 filtros y un tamaño de kernel de 5, lo que permite detectar patrones locales relevantes en las secuencias de texto. Después, se aplica una capa GlobalMaxPooling1D, que reduce la dimensionalidad tomando el valor máximo de cada filtro, ayudando a consolidar la información más relevante de cada secuencia. A continuación, el modelo pasa por una capa densa con activación ReLU, seguida de una capa de salida sigmoide que produce una probabilidad entre 0 y 1 para la clasificación binaria. El modelo se compila utilizando el optimizador Adam y la función de pérdida binary_crossentropy, con precisión como métrica para evaluar su desempeño."
   ]
  },
  {
   "cell_type": "code",
   "execution_count": 9,
   "metadata": {},
   "outputs": [
    {
     "name": "stdout",
     "output_type": "stream",
     "text": [
      "Epoch 1/5\n",
      "\u001b[1m391/391\u001b[0m \u001b[32m━━━━━━━━━━━━━━━━━━━━\u001b[0m\u001b[37m\u001b[0m \u001b[1m64s\u001b[0m 160ms/step - accuracy: 0.7145 - loss: 0.5532 - val_accuracy: 0.8888 - val_loss: 0.2689\n",
      "Epoch 2/5\n",
      "\u001b[1m391/391\u001b[0m \u001b[32m━━━━━━━━━━━━━━━━━━━━\u001b[0m\u001b[37m\u001b[0m \u001b[1m79s\u001b[0m 202ms/step - accuracy: 0.9239 - loss: 0.2058 - val_accuracy: 0.8972 - val_loss: 0.2512\n",
      "Epoch 3/5\n",
      "\u001b[1m391/391\u001b[0m \u001b[32m━━━━━━━━━━━━━━━━━━━━\u001b[0m\u001b[37m\u001b[0m \u001b[1m83s\u001b[0m 212ms/step - accuracy: 0.9702 - loss: 0.0984 - val_accuracy: 0.9018 - val_loss: 0.2575\n",
      "Epoch 4/5\n",
      "\u001b[1m391/391\u001b[0m \u001b[32m━━━━━━━━━━━━━━━━━━━━\u001b[0m\u001b[37m\u001b[0m \u001b[1m83s\u001b[0m 212ms/step - accuracy: 0.9942 - loss: 0.0359 - val_accuracy: 0.8984 - val_loss: 0.2988\n",
      "Epoch 5/5\n",
      "\u001b[1m391/391\u001b[0m \u001b[32m━━━━━━━━━━━━━━━━━━━━\u001b[0m\u001b[37m\u001b[0m \u001b[1m82s\u001b[0m 210ms/step - accuracy: 0.9996 - loss: 0.0104 - val_accuracy: 0.9007 - val_loss: 0.3339\n"
     ]
    }
   ],
   "source": [
    "# Entrenamiento del modelo\n",
    "batch_size = 64\n",
    "epochs = 5\n",
    "\n",
    "history = model.fit(\n",
    "    X_train_padded, y_train, \n",
    "    epochs=epochs, \n",
    "    batch_size=batch_size, \n",
    "    validation_data=(X_test_padded, y_test),\n",
    "    verbose=1\n",
    ")\n"
   ]
  },
  {
   "cell_type": "markdown",
   "metadata": {},
   "source": [
    "El entrenamiento del modelo se lleva a cabo utilizando un tamaño de batch de 64 y se ejecuta durante 5 épocas. En cada época, el modelo ajusta sus pesos para minimizar la función de pérdida utilizando los datos de entrenamiento y validación. La precisión (accuracy) y la pérdida (loss) se miden tanto en el conjunto de entrenamiento como en el de validación, proporcionando una evaluación en tiempo real del progreso del modelo.\n",
    "\n",
    "Los resultados muestran un aumento progresivo en la precisión, alcanzando en la última época un accuracy del 99.96% en el conjunto de entrenamiento, lo que sugiere que el modelo está capturando patrones relevantes en los datos. Sin embargo, la val_accuracy (precisión en el conjunto de validación) alcanza un máximo de alrededor del 90.18%, lo que sugiere que aunque el modelo generaliza bien, puede estar empezando a sobreajustarse hacia las últimas épocas. La pérdida en el conjunto de validación también refleja una ligera tendencia al alza hacia el final, lo que es indicativo de un posible sobreajuste."
   ]
  },
  {
   "cell_type": "code",
   "execution_count": 10,
   "metadata": {},
   "outputs": [
    {
     "name": "stdout",
     "output_type": "stream",
     "text": [
      "Precisión en el conjunto de prueba: 90.07%\n"
     ]
    }
   ],
   "source": [
    "# Evaluar el rendimiento\n",
    "test_loss, test_accuracy = model.evaluate(X_test_padded, y_test, verbose=0)\n",
    "print(f'Precisión en el conjunto de prueba: {test_accuracy * 100:.2f}%')\n"
   ]
  },
  {
   "cell_type": "markdown",
   "metadata": {},
   "source": [
    "La evaluación del modelo en el conjunto de prueba muestra una precisión del **90.07%**, lo que confirma que el modelo ha logrado generalizar bien a datos no vistos, cumpliendo eficazmente con la tarea de clasificación binaria. "
   ]
  },
  {
   "cell_type": "code",
   "execution_count": 12,
   "metadata": {},
   "outputs": [
    {
     "data": {
      "application/vnd.plotly.v1+json": {
       "config": {
        "plotlyServerURL": "https://plot.ly"
       },
       "data": [
        {
         "mode": "lines+markers",
         "name": "Precisión en entrenamiento",
         "type": "scatter",
         "x": [
          0,
          1,
          2,
          3,
          4
         ],
         "xaxis": "x",
         "y": [
          0.8008800148963928,
          0.9231600165367126,
          0.9685999751091003,
          0.9935200214385986,
          0.9994400143623352
         ],
         "yaxis": "y"
        },
        {
         "mode": "lines+markers",
         "name": "Precisión en validación",
         "type": "scatter",
         "x": [
          0,
          1,
          2,
          3,
          4
         ],
         "xaxis": "x",
         "y": [
          0.8888400197029114,
          0.8972399830818176,
          0.9017999768257141,
          0.8984400033950806,
          0.9007200002670288
         ],
         "yaxis": "y"
        },
        {
         "mode": "lines+markers",
         "name": "Pérdida en entrenamiento",
         "type": "scatter",
         "x": [
          0,
          1,
          2,
          3,
          4
         ],
         "xaxis": "x2",
         "y": [
          0.4259438216686249,
          0.20130974054336548,
          0.09964179992675781,
          0.03427013009786606,
          0.009571940638124943
         ],
         "yaxis": "y2"
        },
        {
         "mode": "lines+markers",
         "name": "Pérdida en validación",
         "type": "scatter",
         "x": [
          0,
          1,
          2,
          3,
          4
         ],
         "xaxis": "x2",
         "y": [
          0.2689412236213684,
          0.2512136399745941,
          0.25753867626190186,
          0.2988468408584595,
          0.33389297127723694
         ],
         "yaxis": "y2"
        }
       ],
       "layout": {
        "annotations": [
         {
          "font": {
           "size": 16
          },
          "showarrow": false,
          "text": "Precisión",
          "x": 0.225,
          "xanchor": "center",
          "xref": "paper",
          "y": 1,
          "yanchor": "bottom",
          "yref": "paper"
         },
         {
          "font": {
           "size": 16
          },
          "showarrow": false,
          "text": "Pérdida",
          "x": 0.775,
          "xanchor": "center",
          "xref": "paper",
          "y": 1,
          "yanchor": "bottom",
          "yref": "paper"
         }
        ],
        "height": 500,
        "template": {
         "data": {
          "bar": [
           {
            "error_x": {
             "color": "#2a3f5f"
            },
            "error_y": {
             "color": "#2a3f5f"
            },
            "marker": {
             "line": {
              "color": "#E5ECF6",
              "width": 0.5
             },
             "pattern": {
              "fillmode": "overlay",
              "size": 10,
              "solidity": 0.2
             }
            },
            "type": "bar"
           }
          ],
          "barpolar": [
           {
            "marker": {
             "line": {
              "color": "#E5ECF6",
              "width": 0.5
             },
             "pattern": {
              "fillmode": "overlay",
              "size": 10,
              "solidity": 0.2
             }
            },
            "type": "barpolar"
           }
          ],
          "carpet": [
           {
            "aaxis": {
             "endlinecolor": "#2a3f5f",
             "gridcolor": "white",
             "linecolor": "white",
             "minorgridcolor": "white",
             "startlinecolor": "#2a3f5f"
            },
            "baxis": {
             "endlinecolor": "#2a3f5f",
             "gridcolor": "white",
             "linecolor": "white",
             "minorgridcolor": "white",
             "startlinecolor": "#2a3f5f"
            },
            "type": "carpet"
           }
          ],
          "choropleth": [
           {
            "colorbar": {
             "outlinewidth": 0,
             "ticks": ""
            },
            "type": "choropleth"
           }
          ],
          "contour": [
           {
            "colorbar": {
             "outlinewidth": 0,
             "ticks": ""
            },
            "colorscale": [
             [
              0,
              "#0d0887"
             ],
             [
              0.1111111111111111,
              "#46039f"
             ],
             [
              0.2222222222222222,
              "#7201a8"
             ],
             [
              0.3333333333333333,
              "#9c179e"
             ],
             [
              0.4444444444444444,
              "#bd3786"
             ],
             [
              0.5555555555555556,
              "#d8576b"
             ],
             [
              0.6666666666666666,
              "#ed7953"
             ],
             [
              0.7777777777777778,
              "#fb9f3a"
             ],
             [
              0.8888888888888888,
              "#fdca26"
             ],
             [
              1,
              "#f0f921"
             ]
            ],
            "type": "contour"
           }
          ],
          "contourcarpet": [
           {
            "colorbar": {
             "outlinewidth": 0,
             "ticks": ""
            },
            "type": "contourcarpet"
           }
          ],
          "heatmap": [
           {
            "colorbar": {
             "outlinewidth": 0,
             "ticks": ""
            },
            "colorscale": [
             [
              0,
              "#0d0887"
             ],
             [
              0.1111111111111111,
              "#46039f"
             ],
             [
              0.2222222222222222,
              "#7201a8"
             ],
             [
              0.3333333333333333,
              "#9c179e"
             ],
             [
              0.4444444444444444,
              "#bd3786"
             ],
             [
              0.5555555555555556,
              "#d8576b"
             ],
             [
              0.6666666666666666,
              "#ed7953"
             ],
             [
              0.7777777777777778,
              "#fb9f3a"
             ],
             [
              0.8888888888888888,
              "#fdca26"
             ],
             [
              1,
              "#f0f921"
             ]
            ],
            "type": "heatmap"
           }
          ],
          "heatmapgl": [
           {
            "colorbar": {
             "outlinewidth": 0,
             "ticks": ""
            },
            "colorscale": [
             [
              0,
              "#0d0887"
             ],
             [
              0.1111111111111111,
              "#46039f"
             ],
             [
              0.2222222222222222,
              "#7201a8"
             ],
             [
              0.3333333333333333,
              "#9c179e"
             ],
             [
              0.4444444444444444,
              "#bd3786"
             ],
             [
              0.5555555555555556,
              "#d8576b"
             ],
             [
              0.6666666666666666,
              "#ed7953"
             ],
             [
              0.7777777777777778,
              "#fb9f3a"
             ],
             [
              0.8888888888888888,
              "#fdca26"
             ],
             [
              1,
              "#f0f921"
             ]
            ],
            "type": "heatmapgl"
           }
          ],
          "histogram": [
           {
            "marker": {
             "pattern": {
              "fillmode": "overlay",
              "size": 10,
              "solidity": 0.2
             }
            },
            "type": "histogram"
           }
          ],
          "histogram2d": [
           {
            "colorbar": {
             "outlinewidth": 0,
             "ticks": ""
            },
            "colorscale": [
             [
              0,
              "#0d0887"
             ],
             [
              0.1111111111111111,
              "#46039f"
             ],
             [
              0.2222222222222222,
              "#7201a8"
             ],
             [
              0.3333333333333333,
              "#9c179e"
             ],
             [
              0.4444444444444444,
              "#bd3786"
             ],
             [
              0.5555555555555556,
              "#d8576b"
             ],
             [
              0.6666666666666666,
              "#ed7953"
             ],
             [
              0.7777777777777778,
              "#fb9f3a"
             ],
             [
              0.8888888888888888,
              "#fdca26"
             ],
             [
              1,
              "#f0f921"
             ]
            ],
            "type": "histogram2d"
           }
          ],
          "histogram2dcontour": [
           {
            "colorbar": {
             "outlinewidth": 0,
             "ticks": ""
            },
            "colorscale": [
             [
              0,
              "#0d0887"
             ],
             [
              0.1111111111111111,
              "#46039f"
             ],
             [
              0.2222222222222222,
              "#7201a8"
             ],
             [
              0.3333333333333333,
              "#9c179e"
             ],
             [
              0.4444444444444444,
              "#bd3786"
             ],
             [
              0.5555555555555556,
              "#d8576b"
             ],
             [
              0.6666666666666666,
              "#ed7953"
             ],
             [
              0.7777777777777778,
              "#fb9f3a"
             ],
             [
              0.8888888888888888,
              "#fdca26"
             ],
             [
              1,
              "#f0f921"
             ]
            ],
            "type": "histogram2dcontour"
           }
          ],
          "mesh3d": [
           {
            "colorbar": {
             "outlinewidth": 0,
             "ticks": ""
            },
            "type": "mesh3d"
           }
          ],
          "parcoords": [
           {
            "line": {
             "colorbar": {
              "outlinewidth": 0,
              "ticks": ""
             }
            },
            "type": "parcoords"
           }
          ],
          "pie": [
           {
            "automargin": true,
            "type": "pie"
           }
          ],
          "scatter": [
           {
            "fillpattern": {
             "fillmode": "overlay",
             "size": 10,
             "solidity": 0.2
            },
            "type": "scatter"
           }
          ],
          "scatter3d": [
           {
            "line": {
             "colorbar": {
              "outlinewidth": 0,
              "ticks": ""
             }
            },
            "marker": {
             "colorbar": {
              "outlinewidth": 0,
              "ticks": ""
             }
            },
            "type": "scatter3d"
           }
          ],
          "scattercarpet": [
           {
            "marker": {
             "colorbar": {
              "outlinewidth": 0,
              "ticks": ""
             }
            },
            "type": "scattercarpet"
           }
          ],
          "scattergeo": [
           {
            "marker": {
             "colorbar": {
              "outlinewidth": 0,
              "ticks": ""
             }
            },
            "type": "scattergeo"
           }
          ],
          "scattergl": [
           {
            "marker": {
             "colorbar": {
              "outlinewidth": 0,
              "ticks": ""
             }
            },
            "type": "scattergl"
           }
          ],
          "scattermapbox": [
           {
            "marker": {
             "colorbar": {
              "outlinewidth": 0,
              "ticks": ""
             }
            },
            "type": "scattermapbox"
           }
          ],
          "scatterpolar": [
           {
            "marker": {
             "colorbar": {
              "outlinewidth": 0,
              "ticks": ""
             }
            },
            "type": "scatterpolar"
           }
          ],
          "scatterpolargl": [
           {
            "marker": {
             "colorbar": {
              "outlinewidth": 0,
              "ticks": ""
             }
            },
            "type": "scatterpolargl"
           }
          ],
          "scatterternary": [
           {
            "marker": {
             "colorbar": {
              "outlinewidth": 0,
              "ticks": ""
             }
            },
            "type": "scatterternary"
           }
          ],
          "surface": [
           {
            "colorbar": {
             "outlinewidth": 0,
             "ticks": ""
            },
            "colorscale": [
             [
              0,
              "#0d0887"
             ],
             [
              0.1111111111111111,
              "#46039f"
             ],
             [
              0.2222222222222222,
              "#7201a8"
             ],
             [
              0.3333333333333333,
              "#9c179e"
             ],
             [
              0.4444444444444444,
              "#bd3786"
             ],
             [
              0.5555555555555556,
              "#d8576b"
             ],
             [
              0.6666666666666666,
              "#ed7953"
             ],
             [
              0.7777777777777778,
              "#fb9f3a"
             ],
             [
              0.8888888888888888,
              "#fdca26"
             ],
             [
              1,
              "#f0f921"
             ]
            ],
            "type": "surface"
           }
          ],
          "table": [
           {
            "cells": {
             "fill": {
              "color": "#EBF0F8"
             },
             "line": {
              "color": "white"
             }
            },
            "header": {
             "fill": {
              "color": "#C8D4E3"
             },
             "line": {
              "color": "white"
             }
            },
            "type": "table"
           }
          ]
         },
         "layout": {
          "annotationdefaults": {
           "arrowcolor": "#2a3f5f",
           "arrowhead": 0,
           "arrowwidth": 1
          },
          "autotypenumbers": "strict",
          "coloraxis": {
           "colorbar": {
            "outlinewidth": 0,
            "ticks": ""
           }
          },
          "colorscale": {
           "diverging": [
            [
             0,
             "#8e0152"
            ],
            [
             0.1,
             "#c51b7d"
            ],
            [
             0.2,
             "#de77ae"
            ],
            [
             0.3,
             "#f1b6da"
            ],
            [
             0.4,
             "#fde0ef"
            ],
            [
             0.5,
             "#f7f7f7"
            ],
            [
             0.6,
             "#e6f5d0"
            ],
            [
             0.7,
             "#b8e186"
            ],
            [
             0.8,
             "#7fbc41"
            ],
            [
             0.9,
             "#4d9221"
            ],
            [
             1,
             "#276419"
            ]
           ],
           "sequential": [
            [
             0,
             "#0d0887"
            ],
            [
             0.1111111111111111,
             "#46039f"
            ],
            [
             0.2222222222222222,
             "#7201a8"
            ],
            [
             0.3333333333333333,
             "#9c179e"
            ],
            [
             0.4444444444444444,
             "#bd3786"
            ],
            [
             0.5555555555555556,
             "#d8576b"
            ],
            [
             0.6666666666666666,
             "#ed7953"
            ],
            [
             0.7777777777777778,
             "#fb9f3a"
            ],
            [
             0.8888888888888888,
             "#fdca26"
            ],
            [
             1,
             "#f0f921"
            ]
           ],
           "sequentialminus": [
            [
             0,
             "#0d0887"
            ],
            [
             0.1111111111111111,
             "#46039f"
            ],
            [
             0.2222222222222222,
             "#7201a8"
            ],
            [
             0.3333333333333333,
             "#9c179e"
            ],
            [
             0.4444444444444444,
             "#bd3786"
            ],
            [
             0.5555555555555556,
             "#d8576b"
            ],
            [
             0.6666666666666666,
             "#ed7953"
            ],
            [
             0.7777777777777778,
             "#fb9f3a"
            ],
            [
             0.8888888888888888,
             "#fdca26"
            ],
            [
             1,
             "#f0f921"
            ]
           ]
          },
          "colorway": [
           "#636efa",
           "#EF553B",
           "#00cc96",
           "#ab63fa",
           "#FFA15A",
           "#19d3f3",
           "#FF6692",
           "#B6E880",
           "#FF97FF",
           "#FECB52"
          ],
          "font": {
           "color": "#2a3f5f"
          },
          "geo": {
           "bgcolor": "white",
           "lakecolor": "white",
           "landcolor": "#E5ECF6",
           "showlakes": true,
           "showland": true,
           "subunitcolor": "white"
          },
          "hoverlabel": {
           "align": "left"
          },
          "hovermode": "closest",
          "mapbox": {
           "style": "light"
          },
          "paper_bgcolor": "white",
          "plot_bgcolor": "#E5ECF6",
          "polar": {
           "angularaxis": {
            "gridcolor": "white",
            "linecolor": "white",
            "ticks": ""
           },
           "bgcolor": "#E5ECF6",
           "radialaxis": {
            "gridcolor": "white",
            "linecolor": "white",
            "ticks": ""
           }
          },
          "scene": {
           "xaxis": {
            "backgroundcolor": "#E5ECF6",
            "gridcolor": "white",
            "gridwidth": 2,
            "linecolor": "white",
            "showbackground": true,
            "ticks": "",
            "zerolinecolor": "white"
           },
           "yaxis": {
            "backgroundcolor": "#E5ECF6",
            "gridcolor": "white",
            "gridwidth": 2,
            "linecolor": "white",
            "showbackground": true,
            "ticks": "",
            "zerolinecolor": "white"
           },
           "zaxis": {
            "backgroundcolor": "#E5ECF6",
            "gridcolor": "white",
            "gridwidth": 2,
            "linecolor": "white",
            "showbackground": true,
            "ticks": "",
            "zerolinecolor": "white"
           }
          },
          "shapedefaults": {
           "line": {
            "color": "#2a3f5f"
           }
          },
          "ternary": {
           "aaxis": {
            "gridcolor": "white",
            "linecolor": "white",
            "ticks": ""
           },
           "baxis": {
            "gridcolor": "white",
            "linecolor": "white",
            "ticks": ""
           },
           "bgcolor": "#E5ECF6",
           "caxis": {
            "gridcolor": "white",
            "linecolor": "white",
            "ticks": ""
           }
          },
          "title": {
           "x": 0.05
          },
          "xaxis": {
           "automargin": true,
           "gridcolor": "white",
           "linecolor": "white",
           "ticks": "",
           "title": {
            "standoff": 15
           },
           "zerolinecolor": "white",
           "zerolinewidth": 2
          },
          "yaxis": {
           "automargin": true,
           "gridcolor": "white",
           "linecolor": "white",
           "ticks": "",
           "title": {
            "standoff": 15
           },
           "zerolinecolor": "white",
           "zerolinewidth": 2
          }
         }
        },
        "title": {
         "text": "Gráficas de Precisión y Pérdida"
        },
        "width": 1000,
        "xaxis": {
         "anchor": "y",
         "domain": [
          0,
          0.45
         ],
         "title": {
          "text": "Época"
         }
        },
        "xaxis2": {
         "anchor": "y2",
         "domain": [
          0.55,
          1
         ],
         "title": {
          "text": "Época"
         }
        },
        "yaxis": {
         "anchor": "x",
         "domain": [
          0,
          1
         ],
         "title": {
          "text": "Precisión"
         }
        },
        "yaxis2": {
         "anchor": "x2",
         "domain": [
          0,
          1
         ],
         "title": {
          "text": "Pérdida"
         }
        }
       }
      }
     },
     "metadata": {},
     "output_type": "display_data"
    }
   ],
   "source": [
    "\n",
    "# Crear una figura con dos subgráficas (precisión y pérdida)\n",
    "fig = make_subplots(rows=1, cols=2, \n",
    "                    subplot_titles=(\"Precisión\", \"Pérdida\"))\n",
    "\n",
    "# Agregar trazas para precisión de entrenamiento y validación\n",
    "fig.add_trace(\n",
    "    go.Scatter(x=list(range(len(history.history['accuracy']))), \n",
    "               y=history.history['accuracy'], \n",
    "               mode='lines+markers',\n",
    "               name='Precisión en entrenamiento'),\n",
    "    row=1, col=1\n",
    ")\n",
    "\n",
    "fig.add_trace(\n",
    "    go.Scatter(x=list(range(len(history.history['val_accuracy']))), \n",
    "               y=history.history['val_accuracy'], \n",
    "               mode='lines+markers',\n",
    "               name='Precisión en validación'),\n",
    "    row=1, col=1\n",
    ")\n",
    "\n",
    "# Agregar trazas para pérdida de entrenamiento y validación\n",
    "fig.add_trace(\n",
    "    go.Scatter(x=list(range(len(history.history['loss']))), \n",
    "               y=history.history['loss'], \n",
    "               mode='lines+markers',\n",
    "               name='Pérdida en entrenamiento'),\n",
    "    row=1, col=2\n",
    ")\n",
    "\n",
    "fig.add_trace(\n",
    "    go.Scatter(x=list(range(len(history.history['val_loss']))), \n",
    "               y=history.history['val_loss'], \n",
    "               mode='lines+markers',\n",
    "               name='Pérdida en validación'),\n",
    "    row=1, col=2\n",
    ")\n",
    "\n",
    "# Configurar títulos y ejes\n",
    "fig.update_layout(\n",
    "    title_text=\"Gráficas de Precisión y Pérdida\",\n",
    "    height=500, width=1000,\n",
    ")\n",
    "\n",
    "fig.update_xaxes(title_text=\"Época\", row=1, col=1)\n",
    "fig.update_yaxes(title_text=\"Precisión\", row=1, col=1)\n",
    "fig.update_xaxes(title_text=\"Época\", row=1, col=2)\n",
    "fig.update_yaxes(title_text=\"Pérdida\", row=1, col=2)\n",
    "\n",
    "# Mostrar la figura\n",
    "fig.show()\n",
    "\n"
   ]
  },
  {
   "cell_type": "markdown",
   "metadata": {},
   "source": [
    "Las gráficas de precisión y pérdida muestran cómo evoluciona el desempeño del modelo a lo largo de las épocas tanto en el conjunto de entrenamiento como en el de validación. En la gráfica de precisión, se observa que la precisión en entrenamiento (línea azul) aumenta rápidamente, alcanzando casi el 100%, lo que indica que el modelo está ajustándose muy bien a los datos de entrenamiento. Sin embargo, la precisión en validación (línea roja) se estabiliza alrededor del 90%, lo que sugiere que, aunque el modelo aprende bien durante el entrenamiento, podría estar comenzando a sobreajustarse en las últimas épocas.\n",
    "\n",
    "Por otro lado, en la gráfica de pérdida, se puede ver cómo la pérdida en entrenamiento (línea verde) disminuye constantemente, confirmando que el modelo optimiza correctamente sus pesos para minimizar los errores. Sin embargo, la pérdida en validación (línea morada) muestra una ligera tendencia ascendente hacia el final, lo que refuerza la indicación de sobreajuste. Este comportamiento sugiere que, aunque el modelo logra un buen desempeño, se podría beneficiar de técnicas adicionales de regularización, como Dropout más agresivo o detener el entrenamiento antes de que ocurra el sobreajuste, para mejorar su capacidad de generalización en datos no vistos."
   ]
  },
  {
   "cell_type": "code",
   "execution_count": 13,
   "metadata": {},
   "outputs": [
    {
     "name": "stdout",
     "output_type": "stream",
     "text": [
      "\u001b[1m1/1\u001b[0m \u001b[32m━━━━━━━━━━━━━━━━━━━━\u001b[0m\u001b[37m\u001b[0m \u001b[1m0s\u001b[0m 97ms/step\n",
      "Probabilidad de reseña positiva: 0.98\n"
     ]
    }
   ],
   "source": [
    "# Ejemplo: Reseña tokenizada\n",
    "sample_review = [1, 14, 22, 16, 43, 530, 973, 1622, 1385, 65]\n",
    "sample_review_padded = pad_sequences([sample_review], maxlen=max_length)\n",
    "\n",
    "# Predicción\n",
    "prediction = model.predict(sample_review_padded)\n",
    "print(f'Probabilidad de reseña positiva: {prediction[0][0]:.2f}')\n"
   ]
  },
  {
   "cell_type": "markdown",
   "metadata": {},
   "source": [
    "Aquí se realizó un ejemplo de prueba para evaluar la capacidad predictiva del modelo. Se utilizó una reseña tokenizada representada como una lista de enteros y, mediante la función pad_sequences, se ajustó su longitud para que coincida con la requerida por el modelo. Posteriormente, esta secuencia procesada fue ingresada al modelo para obtener una predicción. El modelo calculó una probabilidad del 98% de que la reseña sea positiva, lo que demuestra que la red es capaz de identificar correctamente el tono positivo de las entradas que se le proporcionan. Esta prueba rápida ilustra la eficacia del modelo para clasificar reseñas individuales fuera del conjunto de datos original."
   ]
  },
  {
   "cell_type": "markdown",
   "metadata": {},
   "source": [
    "#### Ajuste de hiperparámetros"
   ]
  },
  {
   "cell_type": "markdown",
   "metadata": {},
   "source": [
    "La importancia de este código radica en la optimización de hiperparámetros y la mejora del rendimiento del modelo mediante diversas técnicas de refinamiento. Ajustar la cantidad de filtros en la capa convolucional ayuda a evitar el sobreajuste, permitiendo que el modelo sea más eficiente sin perder capacidad de aprendizaje relevante. La incorporación de Dropout fomenta una mayor generalización, reduciendo la probabilidad de que el modelo memorice los datos de entrenamiento. Además, el uso del optimizador RMSprop con decay en la tasa de aprendizaje permite una convergencia más controlada, evitando que el modelo realice ajustes demasiado grandes en las fases finales del entrenamiento.\n",
    "\n",
    "El Early Stopping garantiza que el entrenamiento se detenga automáticamente si no se observa mejora significativa, previniendo así el sobreajuste y optimizando el tiempo de cómputo. El ajuste del batch size y las épocas también juega un papel clave en la eficiencia del proceso de entrenamiento. Por último, la visualización de la precisión y la pérdida en entrenamiento y validación facilita la identificación de patrones de desempeño, ayudando a diagnosticar problemas como el sobreajuste o el estancamiento del aprendizaje, permitiendo tomar decisiones informadas para futuras iteraciones del modelo."
   ]
  },
  {
   "cell_type": "code",
   "execution_count": 14,
   "metadata": {},
   "outputs": [
    {
     "name": "stderr",
     "output_type": "stream",
     "text": [
      "c:\\Users\\Alan\\AppData\\Local\\Programs\\Python\\Python310\\lib\\site-packages\\keras\\src\\layers\\core\\embedding.py:90: UserWarning:\n",
      "\n",
      "Argument `input_length` is deprecated. Just remove it.\n",
      "\n",
      "c:\\Users\\Alan\\AppData\\Local\\Programs\\Python\\Python310\\lib\\site-packages\\keras\\src\\optimizers\\base_optimizer.py:86: UserWarning:\n",
      "\n",
      "Argument `decay` is no longer supported and will be ignored.\n",
      "\n"
     ]
    },
    {
     "name": "stdout",
     "output_type": "stream",
     "text": [
      "Epoch 1/10\n",
      "\u001b[1m782/782\u001b[0m \u001b[32m━━━━━━━━━━━━━━━━━━━━\u001b[0m\u001b[37m\u001b[0m \u001b[1m27s\u001b[0m 29ms/step - accuracy: 0.6507 - loss: 0.5996 - val_accuracy: 0.8568 - val_loss: 0.3410\n",
      "Epoch 2/10\n",
      "\u001b[1m782/782\u001b[0m \u001b[32m━━━━━━━━━━━━━━━━━━━━\u001b[0m\u001b[37m\u001b[0m \u001b[1m27s\u001b[0m 35ms/step - accuracy: 0.8521 - loss: 0.3455 - val_accuracy: 0.8705 - val_loss: 0.3113\n",
      "Epoch 3/10\n",
      "\u001b[1m782/782\u001b[0m \u001b[32m━━━━━━━━━━━━━━━━━━━━\u001b[0m\u001b[37m\u001b[0m \u001b[1m28s\u001b[0m 36ms/step - accuracy: 0.8861 - loss: 0.2822 - val_accuracy: 0.8854 - val_loss: 0.2769\n",
      "Epoch 4/10\n",
      "\u001b[1m782/782\u001b[0m \u001b[32m━━━━━━━━━━━━━━━━━━━━\u001b[0m\u001b[37m\u001b[0m \u001b[1m29s\u001b[0m 37ms/step - accuracy: 0.9073 - loss: 0.2395 - val_accuracy: 0.8877 - val_loss: 0.2752\n",
      "Epoch 5/10\n",
      "\u001b[1m782/782\u001b[0m \u001b[32m━━━━━━━━━━━━━━━━━━━━\u001b[0m\u001b[37m\u001b[0m \u001b[1m36s\u001b[0m 46ms/step - accuracy: 0.9201 - loss: 0.2069 - val_accuracy: 0.8865 - val_loss: 0.2831\n",
      "Epoch 6/10\n",
      "\u001b[1m782/782\u001b[0m \u001b[32m━━━━━━━━━━━━━━━━━━━━\u001b[0m\u001b[37m\u001b[0m \u001b[1m31s\u001b[0m 40ms/step - accuracy: 0.9387 - loss: 0.1722 - val_accuracy: 0.8885 - val_loss: 0.2858\n",
      "Epoch 7/10\n",
      "\u001b[1m782/782\u001b[0m \u001b[32m━━━━━━━━━━━━━━━━━━━━\u001b[0m\u001b[37m\u001b[0m \u001b[1m29s\u001b[0m 37ms/step - accuracy: 0.9424 - loss: 0.1565 - val_accuracy: 0.8909 - val_loss: 0.2892\n",
      "Precisión en el conjunto de prueba: 88.77%\n"
     ]
    },
    {
     "data": {
      "application/vnd.plotly.v1+json": {
       "config": {
        "plotlyServerURL": "https://plot.ly"
       },
       "data": [
        {
         "mode": "lines+markers",
         "name": "Precisión en entrenamiento",
         "type": "scatter",
         "x": [
          0,
          1,
          2,
          3,
          4,
          5,
          6
         ],
         "xaxis": "x",
         "y": [
          0.735759973526001,
          0.8579599857330322,
          0.8865600228309631,
          0.9048799872398376,
          0.920520007610321,
          0.9335600137710571,
          0.9420400261878967
         ],
         "yaxis": "y"
        },
        {
         "mode": "lines+markers",
         "name": "Precisión en validación",
         "type": "scatter",
         "x": [
          0,
          1,
          2,
          3,
          4,
          5,
          6
         ],
         "xaxis": "x",
         "y": [
          0.8568400144577026,
          0.8704800009727478,
          0.8854399919509888,
          0.8876799941062927,
          0.8864799737930298,
          0.888480007648468,
          0.8909199833869934
         ],
         "yaxis": "y"
        },
        {
         "mode": "lines+markers",
         "name": "Pérdida en entrenamiento",
         "type": "scatter",
         "x": [
          0,
          1,
          2,
          3,
          4,
          5,
          6
         ],
         "xaxis": "x2",
         "y": [
          0.5134427547454834,
          0.33812737464904785,
          0.28174638748168945,
          0.2439241260290146,
          0.20796726644039154,
          0.18303395807743073,
          0.15803162753582
         ],
         "yaxis": "y2"
        },
        {
         "mode": "lines+markers",
         "name": "Pérdida en validación",
         "type": "scatter",
         "x": [
          0,
          1,
          2,
          3,
          4,
          5,
          6
         ],
         "xaxis": "x2",
         "y": [
          0.3409613370895386,
          0.31134936213493347,
          0.2768922746181488,
          0.27524811029434204,
          0.2831490635871887,
          0.28584176301956177,
          0.289188951253891
         ],
         "yaxis": "y2"
        }
       ],
       "layout": {
        "annotations": [
         {
          "font": {
           "size": 16
          },
          "showarrow": false,
          "text": "Precisión",
          "x": 0.225,
          "xanchor": "center",
          "xref": "paper",
          "y": 1,
          "yanchor": "bottom",
          "yref": "paper"
         },
         {
          "font": {
           "size": 16
          },
          "showarrow": false,
          "text": "Pérdida",
          "x": 0.775,
          "xanchor": "center",
          "xref": "paper",
          "y": 1,
          "yanchor": "bottom",
          "yref": "paper"
         }
        ],
        "height": 500,
        "showlegend": true,
        "template": {
         "data": {
          "bar": [
           {
            "error_x": {
             "color": "#2a3f5f"
            },
            "error_y": {
             "color": "#2a3f5f"
            },
            "marker": {
             "line": {
              "color": "#E5ECF6",
              "width": 0.5
             },
             "pattern": {
              "fillmode": "overlay",
              "size": 10,
              "solidity": 0.2
             }
            },
            "type": "bar"
           }
          ],
          "barpolar": [
           {
            "marker": {
             "line": {
              "color": "#E5ECF6",
              "width": 0.5
             },
             "pattern": {
              "fillmode": "overlay",
              "size": 10,
              "solidity": 0.2
             }
            },
            "type": "barpolar"
           }
          ],
          "carpet": [
           {
            "aaxis": {
             "endlinecolor": "#2a3f5f",
             "gridcolor": "white",
             "linecolor": "white",
             "minorgridcolor": "white",
             "startlinecolor": "#2a3f5f"
            },
            "baxis": {
             "endlinecolor": "#2a3f5f",
             "gridcolor": "white",
             "linecolor": "white",
             "minorgridcolor": "white",
             "startlinecolor": "#2a3f5f"
            },
            "type": "carpet"
           }
          ],
          "choropleth": [
           {
            "colorbar": {
             "outlinewidth": 0,
             "ticks": ""
            },
            "type": "choropleth"
           }
          ],
          "contour": [
           {
            "colorbar": {
             "outlinewidth": 0,
             "ticks": ""
            },
            "colorscale": [
             [
              0,
              "#0d0887"
             ],
             [
              0.1111111111111111,
              "#46039f"
             ],
             [
              0.2222222222222222,
              "#7201a8"
             ],
             [
              0.3333333333333333,
              "#9c179e"
             ],
             [
              0.4444444444444444,
              "#bd3786"
             ],
             [
              0.5555555555555556,
              "#d8576b"
             ],
             [
              0.6666666666666666,
              "#ed7953"
             ],
             [
              0.7777777777777778,
              "#fb9f3a"
             ],
             [
              0.8888888888888888,
              "#fdca26"
             ],
             [
              1,
              "#f0f921"
             ]
            ],
            "type": "contour"
           }
          ],
          "contourcarpet": [
           {
            "colorbar": {
             "outlinewidth": 0,
             "ticks": ""
            },
            "type": "contourcarpet"
           }
          ],
          "heatmap": [
           {
            "colorbar": {
             "outlinewidth": 0,
             "ticks": ""
            },
            "colorscale": [
             [
              0,
              "#0d0887"
             ],
             [
              0.1111111111111111,
              "#46039f"
             ],
             [
              0.2222222222222222,
              "#7201a8"
             ],
             [
              0.3333333333333333,
              "#9c179e"
             ],
             [
              0.4444444444444444,
              "#bd3786"
             ],
             [
              0.5555555555555556,
              "#d8576b"
             ],
             [
              0.6666666666666666,
              "#ed7953"
             ],
             [
              0.7777777777777778,
              "#fb9f3a"
             ],
             [
              0.8888888888888888,
              "#fdca26"
             ],
             [
              1,
              "#f0f921"
             ]
            ],
            "type": "heatmap"
           }
          ],
          "heatmapgl": [
           {
            "colorbar": {
             "outlinewidth": 0,
             "ticks": ""
            },
            "colorscale": [
             [
              0,
              "#0d0887"
             ],
             [
              0.1111111111111111,
              "#46039f"
             ],
             [
              0.2222222222222222,
              "#7201a8"
             ],
             [
              0.3333333333333333,
              "#9c179e"
             ],
             [
              0.4444444444444444,
              "#bd3786"
             ],
             [
              0.5555555555555556,
              "#d8576b"
             ],
             [
              0.6666666666666666,
              "#ed7953"
             ],
             [
              0.7777777777777778,
              "#fb9f3a"
             ],
             [
              0.8888888888888888,
              "#fdca26"
             ],
             [
              1,
              "#f0f921"
             ]
            ],
            "type": "heatmapgl"
           }
          ],
          "histogram": [
           {
            "marker": {
             "pattern": {
              "fillmode": "overlay",
              "size": 10,
              "solidity": 0.2
             }
            },
            "type": "histogram"
           }
          ],
          "histogram2d": [
           {
            "colorbar": {
             "outlinewidth": 0,
             "ticks": ""
            },
            "colorscale": [
             [
              0,
              "#0d0887"
             ],
             [
              0.1111111111111111,
              "#46039f"
             ],
             [
              0.2222222222222222,
              "#7201a8"
             ],
             [
              0.3333333333333333,
              "#9c179e"
             ],
             [
              0.4444444444444444,
              "#bd3786"
             ],
             [
              0.5555555555555556,
              "#d8576b"
             ],
             [
              0.6666666666666666,
              "#ed7953"
             ],
             [
              0.7777777777777778,
              "#fb9f3a"
             ],
             [
              0.8888888888888888,
              "#fdca26"
             ],
             [
              1,
              "#f0f921"
             ]
            ],
            "type": "histogram2d"
           }
          ],
          "histogram2dcontour": [
           {
            "colorbar": {
             "outlinewidth": 0,
             "ticks": ""
            },
            "colorscale": [
             [
              0,
              "#0d0887"
             ],
             [
              0.1111111111111111,
              "#46039f"
             ],
             [
              0.2222222222222222,
              "#7201a8"
             ],
             [
              0.3333333333333333,
              "#9c179e"
             ],
             [
              0.4444444444444444,
              "#bd3786"
             ],
             [
              0.5555555555555556,
              "#d8576b"
             ],
             [
              0.6666666666666666,
              "#ed7953"
             ],
             [
              0.7777777777777778,
              "#fb9f3a"
             ],
             [
              0.8888888888888888,
              "#fdca26"
             ],
             [
              1,
              "#f0f921"
             ]
            ],
            "type": "histogram2dcontour"
           }
          ],
          "mesh3d": [
           {
            "colorbar": {
             "outlinewidth": 0,
             "ticks": ""
            },
            "type": "mesh3d"
           }
          ],
          "parcoords": [
           {
            "line": {
             "colorbar": {
              "outlinewidth": 0,
              "ticks": ""
             }
            },
            "type": "parcoords"
           }
          ],
          "pie": [
           {
            "automargin": true,
            "type": "pie"
           }
          ],
          "scatter": [
           {
            "fillpattern": {
             "fillmode": "overlay",
             "size": 10,
             "solidity": 0.2
            },
            "type": "scatter"
           }
          ],
          "scatter3d": [
           {
            "line": {
             "colorbar": {
              "outlinewidth": 0,
              "ticks": ""
             }
            },
            "marker": {
             "colorbar": {
              "outlinewidth": 0,
              "ticks": ""
             }
            },
            "type": "scatter3d"
           }
          ],
          "scattercarpet": [
           {
            "marker": {
             "colorbar": {
              "outlinewidth": 0,
              "ticks": ""
             }
            },
            "type": "scattercarpet"
           }
          ],
          "scattergeo": [
           {
            "marker": {
             "colorbar": {
              "outlinewidth": 0,
              "ticks": ""
             }
            },
            "type": "scattergeo"
           }
          ],
          "scattergl": [
           {
            "marker": {
             "colorbar": {
              "outlinewidth": 0,
              "ticks": ""
             }
            },
            "type": "scattergl"
           }
          ],
          "scattermapbox": [
           {
            "marker": {
             "colorbar": {
              "outlinewidth": 0,
              "ticks": ""
             }
            },
            "type": "scattermapbox"
           }
          ],
          "scatterpolar": [
           {
            "marker": {
             "colorbar": {
              "outlinewidth": 0,
              "ticks": ""
             }
            },
            "type": "scatterpolar"
           }
          ],
          "scatterpolargl": [
           {
            "marker": {
             "colorbar": {
              "outlinewidth": 0,
              "ticks": ""
             }
            },
            "type": "scatterpolargl"
           }
          ],
          "scatterternary": [
           {
            "marker": {
             "colorbar": {
              "outlinewidth": 0,
              "ticks": ""
             }
            },
            "type": "scatterternary"
           }
          ],
          "surface": [
           {
            "colorbar": {
             "outlinewidth": 0,
             "ticks": ""
            },
            "colorscale": [
             [
              0,
              "#0d0887"
             ],
             [
              0.1111111111111111,
              "#46039f"
             ],
             [
              0.2222222222222222,
              "#7201a8"
             ],
             [
              0.3333333333333333,
              "#9c179e"
             ],
             [
              0.4444444444444444,
              "#bd3786"
             ],
             [
              0.5555555555555556,
              "#d8576b"
             ],
             [
              0.6666666666666666,
              "#ed7953"
             ],
             [
              0.7777777777777778,
              "#fb9f3a"
             ],
             [
              0.8888888888888888,
              "#fdca26"
             ],
             [
              1,
              "#f0f921"
             ]
            ],
            "type": "surface"
           }
          ],
          "table": [
           {
            "cells": {
             "fill": {
              "color": "#EBF0F8"
             },
             "line": {
              "color": "white"
             }
            },
            "header": {
             "fill": {
              "color": "#C8D4E3"
             },
             "line": {
              "color": "white"
             }
            },
            "type": "table"
           }
          ]
         },
         "layout": {
          "annotationdefaults": {
           "arrowcolor": "#2a3f5f",
           "arrowhead": 0,
           "arrowwidth": 1
          },
          "autotypenumbers": "strict",
          "coloraxis": {
           "colorbar": {
            "outlinewidth": 0,
            "ticks": ""
           }
          },
          "colorscale": {
           "diverging": [
            [
             0,
             "#8e0152"
            ],
            [
             0.1,
             "#c51b7d"
            ],
            [
             0.2,
             "#de77ae"
            ],
            [
             0.3,
             "#f1b6da"
            ],
            [
             0.4,
             "#fde0ef"
            ],
            [
             0.5,
             "#f7f7f7"
            ],
            [
             0.6,
             "#e6f5d0"
            ],
            [
             0.7,
             "#b8e186"
            ],
            [
             0.8,
             "#7fbc41"
            ],
            [
             0.9,
             "#4d9221"
            ],
            [
             1,
             "#276419"
            ]
           ],
           "sequential": [
            [
             0,
             "#0d0887"
            ],
            [
             0.1111111111111111,
             "#46039f"
            ],
            [
             0.2222222222222222,
             "#7201a8"
            ],
            [
             0.3333333333333333,
             "#9c179e"
            ],
            [
             0.4444444444444444,
             "#bd3786"
            ],
            [
             0.5555555555555556,
             "#d8576b"
            ],
            [
             0.6666666666666666,
             "#ed7953"
            ],
            [
             0.7777777777777778,
             "#fb9f3a"
            ],
            [
             0.8888888888888888,
             "#fdca26"
            ],
            [
             1,
             "#f0f921"
            ]
           ],
           "sequentialminus": [
            [
             0,
             "#0d0887"
            ],
            [
             0.1111111111111111,
             "#46039f"
            ],
            [
             0.2222222222222222,
             "#7201a8"
            ],
            [
             0.3333333333333333,
             "#9c179e"
            ],
            [
             0.4444444444444444,
             "#bd3786"
            ],
            [
             0.5555555555555556,
             "#d8576b"
            ],
            [
             0.6666666666666666,
             "#ed7953"
            ],
            [
             0.7777777777777778,
             "#fb9f3a"
            ],
            [
             0.8888888888888888,
             "#fdca26"
            ],
            [
             1,
             "#f0f921"
            ]
           ]
          },
          "colorway": [
           "#636efa",
           "#EF553B",
           "#00cc96",
           "#ab63fa",
           "#FFA15A",
           "#19d3f3",
           "#FF6692",
           "#B6E880",
           "#FF97FF",
           "#FECB52"
          ],
          "font": {
           "color": "#2a3f5f"
          },
          "geo": {
           "bgcolor": "white",
           "lakecolor": "white",
           "landcolor": "#E5ECF6",
           "showlakes": true,
           "showland": true,
           "subunitcolor": "white"
          },
          "hoverlabel": {
           "align": "left"
          },
          "hovermode": "closest",
          "mapbox": {
           "style": "light"
          },
          "paper_bgcolor": "white",
          "plot_bgcolor": "#E5ECF6",
          "polar": {
           "angularaxis": {
            "gridcolor": "white",
            "linecolor": "white",
            "ticks": ""
           },
           "bgcolor": "#E5ECF6",
           "radialaxis": {
            "gridcolor": "white",
            "linecolor": "white",
            "ticks": ""
           }
          },
          "scene": {
           "xaxis": {
            "backgroundcolor": "#E5ECF6",
            "gridcolor": "white",
            "gridwidth": 2,
            "linecolor": "white",
            "showbackground": true,
            "ticks": "",
            "zerolinecolor": "white"
           },
           "yaxis": {
            "backgroundcolor": "#E5ECF6",
            "gridcolor": "white",
            "gridwidth": 2,
            "linecolor": "white",
            "showbackground": true,
            "ticks": "",
            "zerolinecolor": "white"
           },
           "zaxis": {
            "backgroundcolor": "#E5ECF6",
            "gridcolor": "white",
            "gridwidth": 2,
            "linecolor": "white",
            "showbackground": true,
            "ticks": "",
            "zerolinecolor": "white"
           }
          },
          "shapedefaults": {
           "line": {
            "color": "#2a3f5f"
           }
          },
          "ternary": {
           "aaxis": {
            "gridcolor": "white",
            "linecolor": "white",
            "ticks": ""
           },
           "baxis": {
            "gridcolor": "white",
            "linecolor": "white",
            "ticks": ""
           },
           "bgcolor": "#E5ECF6",
           "caxis": {
            "gridcolor": "white",
            "linecolor": "white",
            "ticks": ""
           }
          },
          "title": {
           "x": 0.05
          },
          "xaxis": {
           "automargin": true,
           "gridcolor": "white",
           "linecolor": "white",
           "ticks": "",
           "title": {
            "standoff": 15
           },
           "zerolinecolor": "white",
           "zerolinewidth": 2
          },
          "yaxis": {
           "automargin": true,
           "gridcolor": "white",
           "linecolor": "white",
           "ticks": "",
           "title": {
            "standoff": 15
           },
           "zerolinecolor": "white",
           "zerolinewidth": 2
          }
         }
        },
        "title": {
         "text": "Gráficas de Precisión y Pérdida"
        },
        "width": 1000,
        "xaxis": {
         "anchor": "y",
         "domain": [
          0,
          0.45
         ],
         "title": {
          "text": "Época"
         }
        },
        "xaxis2": {
         "anchor": "y2",
         "domain": [
          0.55,
          1
         ],
         "title": {
          "text": "Época"
         }
        },
        "yaxis": {
         "anchor": "x",
         "domain": [
          0,
          1
         ],
         "title": {
          "text": "Precisión"
         }
        },
        "yaxis2": {
         "anchor": "x2",
         "domain": [
          0,
          1
         ],
         "title": {
          "text": "Pérdida"
         }
        }
       }
      }
     },
     "metadata": {},
     "output_type": "display_data"
    },
    {
     "name": "stdout",
     "output_type": "stream",
     "text": [
      "\u001b[1m1/1\u001b[0m \u001b[32m━━━━━━━━━━━━━━━━━━━━\u001b[0m\u001b[37m\u001b[0m \u001b[1m0s\u001b[0m 165ms/step\n",
      "Probabilidad de reseña positiva: 0.93\n"
     ]
    }
   ],
   "source": [
    "\n",
    "# Parámetros \n",
    "vocab_size = 5000  \n",
    "embedding_dim = 128  \n",
    "max_length = 500 \n",
    "\n",
    "# Preprocesamiento de datos\n",
    "X_train_padded = pad_sequences(X_train, maxlen=max_length, padding='post', truncating='post')\n",
    "X_test_padded = pad_sequences(X_test, maxlen=max_length, padding='post', truncating='post')\n",
    "\n",
    "# Definición del modelo CNN optimizado\n",
    "model = Sequential()\n",
    "model.add(Embedding(input_dim=vocab_size, output_dim=embedding_dim, input_length=max_length))\n",
    "model.add(Conv1D(filters=64, kernel_size=5, activation='relu')) \n",
    "model.add(GlobalMaxPooling1D())\n",
    "model.add(Dropout(0.5)) \n",
    "model.add(Dense(10, activation='relu'))\n",
    "model.add(Dense(1, activation='sigmoid')) \n",
    "\n",
    "# Compilación del modelo con RMSprop y decay en learning rate\n",
    "optimizer = RMSprop(learning_rate=0.001, decay=1e-6)\n",
    "model.compile(optimizer=optimizer, loss='binary_crossentropy', metrics=['accuracy'])\n",
    "\n",
    "early_stopping = EarlyStopping(monitor='val_loss', patience=3, restore_best_weights=True)\n",
    "\n",
    "# 5. Entrenamiento del modelo\n",
    "batch_size = 32\n",
    "epochs = 10  \n",
    "\n",
    "history = model.fit(\n",
    "    X_train_padded, y_train, \n",
    "    epochs=epochs, \n",
    "    batch_size=batch_size, \n",
    "    validation_data=(X_test_padded, y_test), \n",
    "    callbacks=[early_stopping], \n",
    "    verbose=1\n",
    ")\n",
    "\n",
    "# Evaluación del modelo \n",
    "test_loss, test_accuracy = model.evaluate(X_test_padded, y_test, verbose=0)\n",
    "print(f'Precisión en el conjunto de prueba: {test_accuracy * 100:.2f}%')\n",
    "\n",
    "# Graficar la precisión y la pérdida\n",
    "\n",
    "fig = make_subplots(rows=1, cols=2, \n",
    "                    subplot_titles=(\"Precisión\", \"Pérdida\"),\n",
    "                    horizontal_spacing=0.1)  \n",
    "fig.add_trace(\n",
    "    go.Scatter(x=list(range(len(history.history['accuracy']))), \n",
    "               y=history.history['accuracy'], \n",
    "               mode='lines+markers',\n",
    "               name='Precisión en entrenamiento'),\n",
    "    row=1, col=1\n",
    ")\n",
    "\n",
    "fig.add_trace(\n",
    "    go.Scatter(x=list(range(len(history.history['val_accuracy']))), \n",
    "               y=history.history['val_accuracy'], \n",
    "               mode='lines+markers',\n",
    "               name='Precisión en validación'),\n",
    "    row=1, col=1\n",
    ")\n",
    "\n",
    "fig.add_trace(\n",
    "    go.Scatter(x=list(range(len(history.history['loss']))), \n",
    "               y=history.history['loss'], \n",
    "               mode='lines+markers',\n",
    "               name='Pérdida en entrenamiento'),\n",
    "    row=1, col=2\n",
    ")\n",
    "\n",
    "fig.add_trace(\n",
    "    go.Scatter(x=list(range(len(history.history['val_loss']))), \n",
    "               y=history.history['val_loss'], \n",
    "               mode='lines+markers',\n",
    "               name='Pérdida en validación'),\n",
    "    row=1, col=2\n",
    ")\n",
    "\n",
    "fig.update_layout(\n",
    "    title_text='Gráficas de Precisión y Pérdida',\n",
    "    height=500, width=1000,\n",
    "    showlegend=True  # Mostrar la leyenda en ambas gráficas\n",
    ")\n",
    "\n",
    "fig.update_xaxes(title_text='Época', row=1, col=1)\n",
    "fig.update_yaxes(title_text='Precisión', row=1, col=1)\n",
    "fig.update_xaxes(title_text='Época', row=1, col=2)\n",
    "fig.update_yaxes(title_text='Pérdida', row=1, col=2)\n",
    "\n",
    "# Mostrar la figura\n",
    "fig.show()\n",
    "\n",
    "\n",
    "# 8. Predicción en una nueva reseña\n",
    "sample_review = [1, 14, 22, 16, 43, 530, 973, 1622, 1385, 65]  # Ejemplo de reseña tokenizada\n",
    "sample_review_padded = pad_sequences([sample_review], maxlen=max_length)\n",
    "\n",
    "prediction = model.predict(sample_review_padded)\n",
    "print(f'Probabilidad de reseña positiva: {prediction[0][0]:.2f}')\n"
   ]
  },
  {
   "cell_type": "markdown",
   "metadata": {},
   "source": [
    "Aunque el modelo ajustado logra converger bien, su precisión final es ligeramente menor que en la primera versión. El modelo original alcanzó un 90.07% de precisión, mientras que el ajustado obtuvo un 88.77%.\n",
    "\n",
    "El modelo ajustado muestra una disminución más suave en la pérdida durante las épocas, lo cual es positivo. Sin embargo, la pérdida en validación se estabiliza temprano (~0.28), lo que indica que el modelo alcanzó rápidamente su máximo rendimiento sin mejorar más.\n",
    "Convergencia del entrenamiento:\n",
    "\n",
    "El early stopping funcionó bien al detener el entrenamiento en la séptima época. Esto indica que evitar un entrenamiento prolongado fue beneficioso.\n",
    "Sin embargo, parece que la combinación de cambios en el batch size y en los filtros no produjo una mejora significativa con respecto al modelo original."
   ]
  },
  {
   "cell_type": "markdown",
   "metadata": {},
   "source": [
    "#### Aprendizajes y Observaciones\n",
    "\n",
    "A pesar de los cambios, los resultados del modelo ajustado no superaron el desempeño del modelo inicial. La precisión en validación y en el conjunto de prueba fue ligeramente inferior:\n",
    "\n",
    "Modelo inicial:\n",
    "Precisión en prueba: 90.07%\n",
    "Precisión en validación: ~90%\n",
    "Modelo ajustado:\n",
    "Precisión en prueba: 88.77%\n",
    "Precisión en validación: ~89%\n",
    "\n",
    "Sin embargo, el modelo ajustado mostró un entrenamiento más consistente y estable, especialmente en las curvas de pérdida, que disminuyeron de forma suave y progresiva. Esto sugiere que los ajustes fueron efectivos para evitar fluctuaciones y un posible sobreajuste, aunque en este caso no generaron una mejora significativa en la precisión.\n",
    "\n",
    "Reducir el número de filtros en la capa Conv1D evitó el sobreajuste, pero también redujo la capacidad del modelo para aprender características complejas del texto. Aunque la capa de dropout ayudó a la generalización, no fue suficiente para mejorar la precisión en validación en este escenario. De igual manera se puede implementar early stopping fue beneficioso, ya que evitó entrenamientos innecesarios y permitió restaurar los mejores pesos del modelo. Además cambiar el tamaño del batch a 32 no resultó en mejoras significativas en la precisión. Sin embargo, permitió una convergencia más suave.Finalmente cambiar a RMSprop no ofreció ventajas significativas en comparación con Adam para este problema específico.\n",
    "\n",
    "Después de realizar múltiples ajustes en la arquitectura del modelo y los hiperparámetros, se concluye que el modelo original ofrece un mejor desempeño con una precisión más alta en el conjunto de prueba (90.07%). Aun así, los ajustes realizados fueron útiles para explorar diferentes enfoques y mejorar la estabilidad del entrenamiento.\n"
   ]
  },
  {
   "cell_type": "markdown",
   "metadata": {},
   "source": [
    "### Conclusión"
   ]
  },
  {
   "cell_type": "markdown",
   "metadata": {},
   "source": [
    "Se desarrolló un modelo de clasificación de reseñas de películas utilizando redes neuronales convolucionales (CNN) con el dataset de IMDB, explorando desde la carga y preprocesamiento de los datos hasta la optimización del rendimiento mediante técnicas avanzadas. Se destacó la importancia del padding para secuencias consistentes, la regularización con Dropout para evitar sobreajuste, y el uso de Early Stopping para optimizar el tiempo de entrenamiento. La implementación de optimización de hiperparámetros, con ajustes en los filtros de convolución y el uso del optimizador RMSprop con decay, permitió mejorar la capacidad de generalización del modelo. Con estos ajustes, se logró una precisión cercana al 90% en el conjunto de prueba, evidenciando un balance eficiente entre aprendizaje y generalización, validando la efectividad del enfoque aplicado.\n",
    "\n",
    "\n",
    "\n",
    "\n",
    "\n",
    "\n"
   ]
  }
 ],
 "metadata": {
  "kernelspec": {
   "display_name": "Python 3",
   "language": "python",
   "name": "python3"
  },
  "language_info": {
   "codemirror_mode": {
    "name": "ipython",
    "version": 3
   },
   "file_extension": ".py",
   "mimetype": "text/x-python",
   "name": "python",
   "nbconvert_exporter": "python",
   "pygments_lexer": "ipython3",
   "version": "3.10.5"
  }
 },
 "nbformat": 4,
 "nbformat_minor": 2
}
